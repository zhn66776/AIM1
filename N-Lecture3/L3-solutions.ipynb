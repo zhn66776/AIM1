{
 "cells": [
  {
   "cell_type": "code",
   "execution_count": 1,
   "id": "b3b3446b",
   "metadata": {},
   "outputs": [],
   "source": [
    "import numpy as np"
   ]
  },
  {
   "cell_type": "code",
   "execution_count": 2,
   "id": "1482932e",
   "metadata": {},
   "outputs": [
    {
     "name": "stdout",
     "output_type": "stream",
     "text": [
      "Executing iteration 0\n",
      "Executing iteration 1\n",
      "-0.5671431650348622\n",
      "1.964804717813351e-07\n"
     ]
    }
   ],
   "source": [
    "# Code to solve e^{x}+x=0:\n",
    "\n",
    "x0 = -0.5 # Initial guess\n",
    "\n",
    "# define our functional\n",
    "def f(x):\n",
    "    return np.exp(x)+x\n",
    "\n",
    "# define its derivative\n",
    "def df(x):\n",
    "    return np.exp(x)+1\n",
    "\n",
    "tol = 1.e-6 # Define a tolerance within which we wish to compute the solution\n",
    "\n",
    "# Define a maximum number of iterations. This is preferable over a while\n",
    "# condition since it ensures we don't get stuck in an infinite loop!\n",
    "nmax = 1000\n",
    "\n",
    "# Compute the root\n",
    "for it in range(nmax):\n",
    "    print('Executing iteration', it)\n",
    "    x0 = x0-f(x0)/df(x0) # Update our guess\n",
    "    if f(x0) < tol: # If we meet the required tolerance, we're done!\n",
    "        break\n",
    "\n",
    "print(x0)\n",
    "\n",
    "# Check\n",
    "print(f(x0))"
   ]
  },
  {
   "cell_type": "code",
   "execution_count": 3,
   "id": "eb121159",
   "metadata": {},
   "outputs": [
    {
     "name": "stdout",
     "output_type": "stream",
     "text": [
      "Executing iteration 0\n",
      "Executing iteration 1\n",
      "Executing iteration 2\n",
      "Executing iteration 3\n",
      "1.5263785710633443e-09\n",
      "1.5263785790864404e-09\n"
     ]
    }
   ],
   "source": [
    "# Code to find the minimum of e^{x}-x:\n",
    "\n",
    "x0 = -0.5 # Initial guess\n",
    "\n",
    "# define the derivative\n",
    "def df(x):\n",
    "    return np.exp(x)-1\n",
    "\n",
    "# And its 2nd derivative\n",
    "def d2f(x):\n",
    "    return np.exp(x)\n",
    "\n",
    "tol = 1.e-6 # Define a tolerance within which we wish to compute the solution\n",
    "\n",
    "# Define a maximum number of iterations. This is preferable over a while\n",
    "# condition since it ensures we don't get stuck in an infinite loop!\n",
    "nmax = 1000\n",
    "\n",
    "# Minimize the function\n",
    "for it in range(nmax):\n",
    "    print('Executing iteration', it)\n",
    "    x0 = x0-df(x0)/d2f(x0) # Update our guess\n",
    "    if df(x0) < tol: # If we meet the required tolerance, we're done!\n",
    "        break\n",
    "\n",
    "print(x0)\n",
    "\n",
    "# Check\n",
    "print(df(x0))"
   ]
  },
  {
   "cell_type": "code",
   "execution_count": 4,
   "id": "20e18389",
   "metadata": {},
   "outputs": [
    {
     "name": "stdout",
     "output_type": "stream",
     "text": [
      "Executing iteration 0\n",
      "Executing iteration 1\n",
      "Executing iteration 2\n",
      "Executing iteration 3\n",
      "Executing iteration 4\n",
      "Executing iteration 5\n",
      "Executing iteration 6\n",
      "Executing iteration 7\n",
      "Executing iteration 8\n",
      "Executing iteration 9\n",
      "Executing iteration 10\n",
      "Executing iteration 11\n",
      "Executing iteration 12\n",
      "Executing iteration 13\n",
      "Executing iteration 14\n",
      "Executing iteration 15\n",
      "[2.00456732 3.00304488]\n",
      "[3.81103837e-07 1.12919655e-07]\n"
     ]
    }
   ],
   "source": [
    "# Code to minimize $f(x,y)=(x-2)^4+(y-3)^4$\n",
    "\n",
    "x0 = np.array([5., 5.]) # Initial guess\n",
    "\n",
    "# define the functional\n",
    "def f(x, y):\n",
    "    return (x-2)**4+(y-3)**4 \n",
    "\n",
    "# define the derivative\n",
    "def df(x, y):\n",
    "    return np.array([4*(x-2)**3, 4*(y-3)**3])\n",
    "\n",
    "# And its 2nd derivative\n",
    "def H(x, y):\n",
    "    return np.array([[12*(x-2)**2, 0], [0, 12*(y-3)**2]])\n",
    "\n",
    "tol = 1.e-6 # Define a tolerance within which we wish to compute the solution\n",
    "\n",
    "# Define a maximum number of iterations. This is preferable over a while\n",
    "# condition since it ensures we don't get stuck in an infinite loop!\n",
    "nmax = 1000\n",
    "\n",
    "# Minimize the function\n",
    "for it in range(nmax):\n",
    "    print('Executing iteration', it)\n",
    "    Hi = np.linalg.inv(H(x0[0], x0[1])) # Inverse of the Hessian\n",
    "    grad = df(x0[0], x0[1]) # Grad of the function\n",
    "    x0 = x0-np.matmul(Hi, grad) # Update our guess\n",
    "    if np.linalg.norm(df(x0[0], x0[1])) < tol: # If we meet the required tolerance, we're done!\n",
    "        break\n",
    "\n",
    "print(x0)\n",
    "\n",
    "# Check\n",
    "print(df(x0[0], x0[1]))"
   ]
  },
  {
   "cell_type": "code",
   "execution_count": 5,
   "id": "c6d5477e",
   "metadata": {},
   "outputs": [
    {
     "name": "stdout",
     "output_type": "stream",
     "text": [
      "Executing iteration 0\n",
      "[2. 3.]\n",
      "[0. 0.]\n"
     ]
    }
   ],
   "source": [
    "# Code to minimize $f(x,y)=(x-2)^2+(y-3)^2$\n",
    "\n",
    "x0 = np.array([10., 10.]) # Initial guess\n",
    "\n",
    "# define the functional\n",
    "def f(x, y):\n",
    "    return (x-2)**2+(y-3)**2\n",
    "\n",
    "# define the derivative\n",
    "def df(x, y):\n",
    "    return np.array([2*(x-2), 2*(y-3)])\n",
    "\n",
    "# And its 2nd derivative\n",
    "def H(x, y):\n",
    "    return np.array([[2, 0], [0, 2]])\n",
    "\n",
    "tol = 1.e-6 # Define a tolerance within which we wish to compute the solution\n",
    "\n",
    "# Define a maximum number of iterations. This is preferable over a while\n",
    "# condition since it ensures we don't get stuck in an infinite loop!\n",
    "nmax = 1000\n",
    "\n",
    "# Minimize the function\n",
    "for it in range(nmax):\n",
    "    print('Executing iteration', it)\n",
    "    Hi = np.linalg.inv(H(x0[0], x0[1])) # Inverse of the Hessian\n",
    "    grad = df(x0[0], x0[1]) # Grad of the function\n",
    "    x0 = x0-np.matmul(Hi, grad) # Update our guess\n",
    "    if np.linalg.norm(df(x0[0], x0[1])) < tol: # If we meet the required tolerance, we're done!\n",
    "        break\n",
    "\n",
    "print(x0)\n",
    "\n",
    "# Check\n",
    "print(df(x0[0], x0[1]))"
   ]
  },
  {
   "cell_type": "markdown",
   "id": "8141b401",
   "metadata": {},
   "source": [
    "Notice that, regardless of initial guess, the algorithm takes only 1 iteration to converge on the correct solution. That is, the algorithm is exact!\n",
    "\n",
    "To understand why, we must go back to the Taylor series. Recall that we must re-arrange\n",
    "\n",
    "\\begin{equation}\n",
    "  \\frac{\\partial f}{\\partial \\mathbf{m}}\\biggr|_{\\mathbf{m}=\\mathbf{m}_0}+\\frac{\\partial^2f}{\\partial \\mathbf{m}^2}\\biggr|_{\\mathbf{m}=\\mathbf{m}_0}\\delta\\mathbf{m}+\\mathcal{O}(\\delta\\mathbf{m}^2)=0.\n",
    "\\end{equation}\n",
    "\n",
    "in terms of $\\delta\\mathbf{m}$ (where in this example $\\mathbf{m}=(x, y)$). However, notice that since our Hessian in this case is constant (it has no $x$ or $y$ dependence) any higher order derivatives of it will be 0. Hence, in this case the terms $\\mathcal{O}(\\delta\\mathbf{m}^2)$ will be exactly 0 and the method will be exact!\n",
    "\n",
    "This it true for any case in which the Hessian is a constant (invertible) matrix - the algorithm will converge to the exact solution after a single iteration."
   ]
  }
 ],
 "metadata": {
  "kernelspec": {
   "display_name": "Python 3",
   "language": "python",
   "name": "python3"
  },
  "language_info": {
   "codemirror_mode": {
    "name": "ipython",
    "version": 3
   },
   "file_extension": ".py",
   "mimetype": "text/x-python",
   "name": "python",
   "nbconvert_exporter": "python",
   "pygments_lexer": "ipython3",
   "version": "3.9.7"
  }
 },
 "nbformat": 4,
 "nbformat_minor": 5
}
