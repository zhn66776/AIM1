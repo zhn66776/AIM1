{
 "cells": [
  {
   "cell_type": "markdown",
   "id": "5f3e2c27",
   "metadata": {},
   "source": [
    "# Applied Inversion Class Test: FWI section\n",
    "\n",
    "## Total time: 1.5 hours (2 questions)\n",
    "\n",
    "Below are some examples of what you may be asked during the test and some general guidance.\n",
    "\n",
    "You will be expected to write code, analyse outputs, and explain your reasoning clearly. It may be useful to bring pens and papers with you to assist with calculations. You will not need to submit any of your hand written notes.\n",
    "\n",
    "---\n",
    "## Question 1 – Newton's Method vs Gradient Descent (Approx. 45 minutes)\n",
    "\n",
    "Consider the function:\n",
    "$$ f(x, y) = 3x^2 + y^2 + 4xy - 6x - 9y $$\n",
    "\n",
    "1. **Compute the gradient** $\\nabla f(x, y)$ and the **Hessian** $H(x, y)$.\n",
    "2. **Find the eigenvalues** of the Hessian matrix. Comment on their significance for optimization.\n",
    "3. **Implement Newton’s Method** to find the minimum of this function starting from the initial point $(x_0, y_0) = (0, 0)$.\n",
    "4. **Implement Gradient Descent** using the same starting point. Use knowledge of the eigenvalues to pick an appropriate step length (you may try multiple values).\n",
    "5. **Compare the convergence** of the two methods:\n",
    "   - How many iterations are needed for convergence?\n",
    "   - How sensitive is Gradient Descent to the choice of step length?\n",
    "   - Explain the observed behaviour with reference to the eigenvalues of the Hessian.\n"
   ]
  },
  {
   "cell_type": "markdown",
   "id": "17e17732",
   "metadata": {},
   "source": [
    "---\n",
    "## Question 2 – Full Waveform Inversion (FWI) Analysis (Approx. 45 minutes)\n",
    "\n",
    "**You will be provided with a working FWI implementation - this will be very similar to the code you were provided with in Lecture 8. This will be based on the Devito package. You will NOT need to write any Devito specific code. You will need to have a good overview of how the algorithm works. You will be asked to run the provided code and may be required to tweak various parameters and interpret how they affect the results, for example:**\n",
    "\n",
    "1. **Shot Record Analysis:**\n",
    "   - Plot and inspect the provided shot records.\n",
    "   - Modify the number of absorbing boundary layers in the code.\n",
    "   - Explain how this change affects the shot records (e.g., artificial reflections at the edges of the domain).\n",
    "\n",
    "2. **Step Length Tuning:**\n",
    "   - Explore different values of the step length $\\alpha$ used in the model update step.\n",
    "   - Identify a range of $\\alpha$ for which convergence occurs and a rough optimal value.\n",
    "   - Comment on the effects of too-small or too-large $\\alpha$ in terms of convergence speed and stability.\n",
    "\n",
    "**You will be required to justify your answers with plots and explanations. As practice you can tweak `nbl`, `alpha` and other parameters in the Lecture 8 notebook you were provided and analyse the effects.**"
   ]
  }
 ],
 "metadata": {
  "kernelspec": {
   "display_name": "Python 3 (ipykernel)",
   "language": "python",
   "name": "python3"
  },
  "language_info": {
   "codemirror_mode": {
    "name": "ipython",
    "version": 3
   },
   "file_extension": ".py",
   "mimetype": "text/x-python",
   "name": "python",
   "nbconvert_exporter": "python",
   "pygments_lexer": "ipython3",
   "version": "3.11.5"
  },
  "toc": {
   "base_numbering": 1,
   "nav_menu": {},
   "number_sections": true,
   "sideBar": true,
   "skip_h1_title": false,
   "title_cell": "Table of Contents",
   "title_sidebar": "Contents",
   "toc_cell": false,
   "toc_position": {},
   "toc_section_display": true,
   "toc_window_display": false
  }
 },
 "nbformat": 4,
 "nbformat_minor": 5
}
