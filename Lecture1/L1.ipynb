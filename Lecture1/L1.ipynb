{
 "cells": [
  {
   "cell_type": "markdown",
   "metadata": {},
   "source": [
    "# EART 70013  <a class=\"tocSkip\">\n",
    "    \n",
    "# Applied Inversion Methods<a class=\"tocSkip\">    \n",
    "    \n",
    "## Lecture 1 <a class=\"tocSkip\">      "
   ]
  },
  {
   "cell_type": "markdown",
   "metadata": {},
   "source": [
    "### Today's learning objectives  <a class=\"tocSkip\">\n",
    "   \n",
    "   \n",
    "1. To introduce some of the key concepts underlying inversion (and the closely related topic of optimisation)\n",
    "\n",
    "    \n",
    "2. To introduce and review some key linear algebra results\n",
    "    \n",
    "    \n",
    "3. To practice some Python coding\n"
   ]
  },
  {
   "cell_type": "markdown",
   "metadata": {
    "toc": true
   },
   "source": [
    "<h1>Table of Contents<span class=\"tocSkip\"></span></h1>\n",
    "<div class=\"toc\"><ul class=\"toc-item\"><li><span><a href=\"#Introduction---Inversion-&amp;-Optimisation\" data-toc-modified-id=\"Introduction---Inversion-&amp;-Optimisation-1\"><span class=\"toc-item-num\">1&nbsp;&nbsp;</span>Introduction - Inversion &amp; Optimisation</a></span><ul class=\"toc-item\"><li><span><a href=\"#Inversion\" data-toc-modified-id=\"Inversion-1.1\"><span class=\"toc-item-num\">1.1&nbsp;&nbsp;</span>Inversion</a></span><ul class=\"toc-item\"><li><span><a href=\"#Forward-vs-inverse-problems\" data-toc-modified-id=\"Forward-vs-inverse-problems-1.1.1\"><span class=\"toc-item-num\">1.1.1&nbsp;&nbsp;</span>Forward vs inverse problems</a></span></li><li><span><a href=\"#A-simple-scalar-linear-example\" data-toc-modified-id=\"A-simple-scalar-linear-example-1.1.2\"><span class=\"toc-item-num\">1.1.2&nbsp;&nbsp;</span>A simple scalar linear example</a></span></li><li><span><a href=\"#A-simple-scalar-nonlinear-example\" data-toc-modified-id=\"A-simple-scalar-nonlinear-example-1.1.3\"><span class=\"toc-item-num\">1.1.3&nbsp;&nbsp;</span>A simple scalar nonlinear example</a></span></li><li><span><a href=\"#A-reminder-on-Newton's-method\" data-toc-modified-id=\"A-reminder-on-Newton's-method-1.1.4\"><span class=\"toc-item-num\">1.1.4&nbsp;&nbsp;</span>A reminder on Newton's method</a></span><ul class=\"toc-item\"><li><span><a href=\"#For-finding-roots-of-equations\" data-toc-modified-id=\"For-finding-roots-of-equations-1.1.4.1\"><span class=\"toc-item-num\">1.1.4.1&nbsp;&nbsp;</span>For finding roots of equations</a></span></li><li><span><a href=\"#For-inversion\" data-toc-modified-id=\"For-inversion-1.1.4.2\"><span class=\"toc-item-num\">1.1.4.2&nbsp;&nbsp;</span>For inversion</a></span></li><li><span><a href=\"#In-multi-dimensions\" data-toc-modified-id=\"In-multi-dimensions-1.1.4.3\"><span class=\"toc-item-num\">1.1.4.3&nbsp;&nbsp;</span>In multi-dimensions</a></span></li></ul></li><li><span><a href=\"#Multi-dimensional-and-nonlinear-problems\" data-toc-modified-id=\"Multi-dimensional-and-nonlinear-problems-1.1.5\"><span class=\"toc-item-num\">1.1.5&nbsp;&nbsp;</span>Multi-dimensional and nonlinear problems</a></span></li><li><span><a href=\"#Terminology\" data-toc-modified-id=\"Terminology-1.1.6\"><span class=\"toc-item-num\">1.1.6&nbsp;&nbsp;</span>Terminology</a></span><ul class=\"toc-item\"><li><span><a href=\"#Parameter-estimation-and-inversion\" data-toc-modified-id=\"Parameter-estimation-and-inversion-1.1.6.1\"><span class=\"toc-item-num\">1.1.6.1&nbsp;&nbsp;</span>Parameter estimation and inversion</a></span></li><li><span><a href=\"#Model-and-parameters\" data-toc-modified-id=\"Model-and-parameters-1.1.6.2\"><span class=\"toc-item-num\">1.1.6.2&nbsp;&nbsp;</span>Model and parameters</a></span></li></ul></li></ul></li></ul></li><li><span><a href=\"#Linear-algebra-review\" data-toc-modified-id=\"Linear-algebra-review-2\"><span class=\"toc-item-num\">2&nbsp;&nbsp;</span>Linear algebra review</a></span><ul class=\"toc-item\"><li><span><a href=\"#Notation-&amp;-terminology\" data-toc-modified-id=\"Notation-&amp;-terminology-2.1\"><span class=\"toc-item-num\">2.1&nbsp;&nbsp;</span>Notation &amp; terminology</a></span><ul class=\"toc-item\"><li><span><a href=\"#Vectors-and-matrices\" data-toc-modified-id=\"Vectors-and-matrices-2.1.1\"><span class=\"toc-item-num\">2.1.1&nbsp;&nbsp;</span>Vectors and matrices</a></span></li></ul></li><li><span><a href=\"#Matrix-dimension\" data-toc-modified-id=\"Matrix-dimension-2.2\"><span class=\"toc-item-num\">2.2&nbsp;&nbsp;</span>Matrix dimension</a></span></li><li><span><a href=\"#Be-careful-about-assignments-vs-copies\" data-toc-modified-id=\"Be-careful-about-assignments-vs-copies-2.3\"><span class=\"toc-item-num\">2.3&nbsp;&nbsp;</span>Be careful about assignments vs copies</a></span></li><li><span><a href=\"#Transpose-of-a-matrix\" data-toc-modified-id=\"Transpose-of-a-matrix-2.4\"><span class=\"toc-item-num\">2.4&nbsp;&nbsp;</span>Transpose of a matrix</a></span><ul class=\"toc-item\"><li><span><a href=\"#Properties-of-the-transpose-operator\" data-toc-modified-id=\"Properties-of-the-transpose-operator-2.4.1\"><span class=\"toc-item-num\">2.4.1&nbsp;&nbsp;</span>Properties of the transpose operator</a></span></li></ul></li><li><span><a href=\"#Matrix-vector-multiplication\" data-toc-modified-id=\"Matrix-vector-multiplication-2.5\"><span class=\"toc-item-num\">2.5&nbsp;&nbsp;</span>Matrix-vector multiplication</a></span><ul class=\"toc-item\"><li><span><a href=\"#Mathematical-definition\" data-toc-modified-id=\"Mathematical-definition-2.5.1\"><span class=\"toc-item-num\">2.5.1&nbsp;&nbsp;</span>Mathematical definition</a></span></li><li><span><a href=\"#Code\" data-toc-modified-id=\"Code-2.5.2\"><span class=\"toc-item-num\">2.5.2&nbsp;&nbsp;</span>Code</a></span></li><li><span><a href=\"#Properties\" data-toc-modified-id=\"Properties-2.5.3\"><span class=\"toc-item-num\">2.5.3&nbsp;&nbsp;</span>Properties</a></span></li><li><span><a href=\"#Matrix-multiplication-using-NumPy\" data-toc-modified-id=\"Matrix-multiplication-using-NumPy-2.5.4\"><span class=\"toc-item-num\">2.5.4&nbsp;&nbsp;</span>Matrix multiplication using NumPy</a></span></li><li><span><a href=\"#Testing-our-code-against-Numpy\" data-toc-modified-id=\"Testing-our-code-against-Numpy-2.5.5\"><span class=\"toc-item-num\">2.5.5&nbsp;&nbsp;</span>Testing our code against Numpy</a></span></li></ul></li><li><span><a href=\"#A-valuable-geometrical-interpretation-of-matrix-vector-multiplication\" data-toc-modified-id=\"A-valuable-geometrical-interpretation-of-matrix-vector-multiplication-2.6\"><span class=\"toc-item-num\">2.6&nbsp;&nbsp;</span>A valuable geometrical interpretation of matrix-vector multiplication</a></span></li></ul></li><li><span><a href=\"#Some-inversion-(parameter-estimation)-examples\" data-toc-modified-id=\"Some-inversion-(parameter-estimation)-examples-3\"><span class=\"toc-item-num\">3&nbsp;&nbsp;</span>Some inversion (parameter estimation) examples</a></span><ul class=\"toc-item\"><li><span><a href=\"#A-linear-model-(polynomial-interpolation)\" data-toc-modified-id=\"A-linear-model-(polynomial-interpolation)-3.1\"><span class=\"toc-item-num\">3.1&nbsp;&nbsp;</span>A linear model (polynomial interpolation)</a></span></li><li><span><a href=\"#Problems-leading-to-a-square-linear/matrix-system\" data-toc-modified-id=\"Problems-leading-to-a-square-linear/matrix-system-3.2\"><span class=\"toc-item-num\">3.2&nbsp;&nbsp;</span>Problems leading to a square linear/matrix system</a></span><ul class=\"toc-item\"><li><span><a href=\"#Fitting-a-single-data-point\" data-toc-modified-id=\"Fitting-a-single-data-point-3.2.1\"><span class=\"toc-item-num\">3.2.1&nbsp;&nbsp;</span>Fitting a single data point</a></span></li><li><span><a href=\"#Fitting-two-data-points\" data-toc-modified-id=\"Fitting-two-data-points-3.2.2\"><span class=\"toc-item-num\">3.2.2&nbsp;&nbsp;</span>Fitting two data points</a></span></li><li><span><a href=\"#Fitting-three-data-points\" data-toc-modified-id=\"Fitting-three-data-points-3.2.3\"><span class=\"toc-item-num\">3.2.3&nbsp;&nbsp;</span>Fitting three data points</a></span></li><li><span><a href=\"#Notation-reconciliation\" data-toc-modified-id=\"Notation-reconciliation-3.2.4\"><span class=\"toc-item-num\">3.2.4&nbsp;&nbsp;</span>Notation reconciliation</a></span></li></ul></li><li><span><a href=\"#Problem-leading-to-a-non-square-linear/matrix-system\" data-toc-modified-id=\"Problem-leading-to-a-non-square-linear/matrix-system-3.3\"><span class=\"toc-item-num\">3.3&nbsp;&nbsp;</span>Problem leading to a non-square linear/matrix system</a></span><ul class=\"toc-item\"><li><span><a href=\"#Least-squares-solution\" data-toc-modified-id=\"Least-squares-solution-3.3.1\"><span class=\"toc-item-num\">3.3.1&nbsp;&nbsp;</span>Least squares solution</a></span></li></ul></li></ul></li><li><span><a href=\"#Summary\" data-toc-modified-id=\"Summary-4\"><span class=\"toc-item-num\">4&nbsp;&nbsp;</span>Summary</a></span></li></ul></div>"
   ]
  },
  {
   "cell_type": "code",
   "execution_count": 1,
   "metadata": {},
   "outputs": [],
   "source": [
    "%matplotlib inline\n",
    "import numpy as np\n",
    "import matplotlib.pyplot as plt\n",
    "import scipy.linalg as sl\n",
    "import scipy.optimize as sop\n",
    "from pprint import pprint"
   ]
  },
  {
   "cell_type": "markdown",
   "metadata": {},
   "source": [
    "# Introduction - Inversion & Optimisation\n",
    "\n",
    "Many numerical problems in science, engineering, economics and other quantitative subjects can be posed as inversion or optimisation problems.    \n",
    "\n",
    "We will start by illustrating these problems in a single real variable where the concepts will already be somewhat familiar. "
   ]
  },
  {
   "cell_type": "markdown",
   "metadata": {},
   "source": [
    "## Inversion\n",
    "\n",
    "Inversion can be thought of as seeking to use a given relationship such as the following \n",
    "\n",
    "$$y = f(x)$$\n",
    "\n",
    "to find $x$, given:\n",
    "\n",
    "1. a value for $y$, and \n",
    "\n",
    "\n",
    "\n",
    "2. the form of the relationship embodied here in the function $f$ or a means to evaluate $f$.  \n",
    "\n",
    "<br>\n",
    "\n",
    "At this point we can think of $f$ in an abstract way as some mapping - it could be a mathematical operator, it could be the output of a complex numerical model (which could be very expensive to execute for each $x$), it could be a [neural network](https://en.wikipedia.org/wiki/Neural_network), ..."
   ]
  },
  {
   "cell_type": "markdown",
   "metadata": {},
   "source": [
    "We can learn a lot about solution methodologies, pitfalls to be aware of etc, by considering $f$ to be a linear mapping, in which case we can think of $f(x)$ as the matrix-vector multiplication $A\\boldsymbol{x}$. Note that in this case I am thinking of $\\boldsymbol{x}$ as well as $\\boldsymbol{y}$ to be vectors, and will use bold font (or underlined) symbols to represent these vectors.\n",
    "\n",
    "This linear case is what my lectures will focus on.\n",
    "\n",
    "<br>\n",
    "\n",
    "Rhodri's lectures will focus more on practical examples where $f$ represents a complex numerical model."
   ]
  },
  {
   "cell_type": "markdown",
   "metadata": {},
   "source": [
    "### Forward vs inverse problems\n",
    "\n",
    "<br>\n",
    "\n",
    "The **forward problem** can be thought of as: given $x$ what is $y$?\n",
    "\n",
    "\n",
    "The **inverse problem** is the opposite: given $y$ what is $x$?\n",
    "\n",
    "<br>\n",
    "\n",
    "[When posing an inverse problem we will often swap the sides of the equation, i.e. $f(x)=y$, so that *known* information (e.g. given data) is on the right and all of the *unknowns* are on the left - cf. the linear case we will see later $A\\boldsymbol{x}=\\boldsymbol{b}$].\n",
    "\n",
    "<br>\n",
    "\n",
    "The first is in principle an easy task to achieve as we have access to $f$ (although $f$ may be very expensive and time consuming to evaluate), the second is hard as we do not have ready access to its inverse.\n",
    "\n",
    "This inversion problem has no general solution, and solving the inverse problem may be trivial, easy, difficult or impossible depending upon the form of $f$ and the value of $y$.  "
   ]
  },
  {
   "cell_type": "markdown",
   "metadata": {},
   "source": [
    "### A simple scalar linear example\n",
    "\n",
    "For example, the solution to a linear version of this problem, that is for the problem\n",
    "\n",
    "$$y = ax$$\n",
    "\n",
    "given an $x$ what is $y$, is \n",
    "\n",
    "$$ x = \\frac{1}{a}y$$\n",
    "\n",
    "where the operation of multiplying by $1/a$ is clearly the inverse of multiplying by $a$.\n",
    "\n",
    "<br>\n",
    "\n",
    "Here we can call \"*multiplying by a*\" our **forward model** and \"*multiplying by* $1/a$\" is then the corresponding **inverse model**.  \n",
    "\n",
    "<br>\n",
    "\n",
    "This solution to the iversion problem is of course trivially simple at first glance. \n",
    "\n",
    "However, note that some more thinking reveals some subtle features that we will see are important in the more general, complex case.\n",
    "\n",
    "In particular, our naive solution will not work, or is not defined, if $a = 0$; in that case, there is no solution, unless $y=0$ in which case there are infinitely many $x$ solutions.\n",
    "\n",
    "<br>\n",
    "\n",
    "We could chose to write the inverse equation as\n",
    "\n",
    "$$ x = (a)^{-1} y$$\n",
    "\n",
    "which makes the inverse relationship explicit, that is the use of the inverse operator. "
   ]
  },
  {
   "cell_type": "markdown",
   "metadata": {},
   "source": [
    "### A simple scalar nonlinear example\n",
    "\n",
    "A nonlinear example is\n",
    "\n",
    "$$ y = \\cos(x) $$\n",
    "\n",
    "which of course has the solution \n",
    "\n",
    "$$x = \\cos^{-1}(y) $$\n",
    "\n",
    "but suppose we didn't know or have a way to compute $\\cos^{-1}\\equiv \\arccos$?\n",
    "\n",
    "<br>\n",
    "\n",
    "For this case, assuming that $x$ and $y$ are real numbers, notice that there is no solution if $|y|>1$, and there are infinitely many solutions otherwise.    \n",
    "\n",
    "Note that infinitely many solutions does not imply that any real number will be a valid solution.  \n",
    "\n",
    "Despite the lack of a unique solution, the solutions that we obtain are still meaningful and are likely to be useful in practical problems.  \n",
    "\n",
    "In many real problems, we are likely to have additional *a priori* information that will allow us to select one or more solutions from the infinite collection.  \n",
    "\n",
    "For example, we may know that possible solutions are constrained such that $0\\leq x\\leq \\pi$ , which together with our forward model ($y=\\cos(x)$), is sufficient to provide a unique solution (provided $|y|\\le 1$).    \n",
    "\n",
    "\n",
    "<br>\n",
    "\n",
    "\n",
    "In general, the solution to our original equation ($y = f(x)$) can be written as\n",
    "\n",
    "$$ x = f^{-1}(y)$$\n",
    "\n",
    "where\n",
    "\n",
    "$$f\\left[f^{-1}(y)\\right] = y$$\n",
    "\n",
    "for all values of $y$ for which the inverse is defined.\n",
    "\n",
    "There is no general solution to this problem.  It is easy to solve (in the scalar case) if $f$ is a linear function, and a much wider range of problems will have solutions we can find robustly (but maybe not cheaply) as long as we are able to begin from a reasonably good guess.  \n",
    "\n",
    "<br>\n",
    "\n",
    "Newton's method we saw in the Numerical Methods module iteratively solves the problem $\\hat{f}(x)=0$ (I'm introducing a hat here to emphasise that this is a different function to the $f$ above, unless $y=0$ of course) from a starting guess, and can be used for multi-dimensional (i.e. vector valued) problems as well as scalar problems."
   ]
  },
  {
   "cell_type": "markdown",
   "metadata": {},
   "source": [
    "### A reminder on Newton's method\n",
    "\n",
    "#### For finding roots of equations\n",
    "\n",
    "Recall that given a problem written in the form\n",
    "\n",
    "\\begin{equation}\n",
    "\\hat{f}(x)=0\n",
    "\\end{equation}\n",
    "\n",
    "The hat here is introduced as we're using $\\hat{f}$ in our definition of a problem written as a root-finding task.\n",
    "\n",
    "[What's the link between this $\\hat{f}$ and the $f$ we introduced to define our forward problem at the start?]\n",
    "\n",
    "<br>\n",
    "\n",
    "Newton's method is a powerful root-finding algorithm (or \"nonlinear solver\") which finds a solution $x$ (termed a root as the RHS of this equation is zero) via the iteration\n",
    "\n",
    "\\begin{equation}\n",
    "x_{i+1} = x_i - \\frac{\\hat{f}(x_i)}{\\hat{f}'(x_i)}\n",
    "\\end{equation}\n",
    "\n",
    "\n",
    "We wrote our own code to solve this in your Numerical Methods module from year 2, but let's remind ourselves how to use the in built SciPy function:"
   ]
  },
  {
   "cell_type": "code",
   "execution_count": 2,
   "metadata": {},
   "outputs": [
    {
     "name": "stdout",
     "output_type": "stream",
     "text": [
      "0.567143290409784\n",
      "0.5671432904097835\n"
     ]
    }
   ],
   "source": [
    "# An example f hat function we want to find a/the roots of\n",
    "def fh(x):\n",
    "    return x - np.exp(-x)\n",
    "\n",
    "# its derivative\n",
    "def dfhdx(x):\n",
    "    return 1 + np.exp(-x)\n",
    "\n",
    "x0 = -1. # initial guess\n",
    "print(sop.newton(fh, x0, dfhdx))\n",
    "\n",
    "\n",
    "# and if you don't have the derivative function it will use a quasi-Newton approach:\n",
    "print(sop.newton(fh, x0))"
   ]
  },
  {
   "cell_type": "markdown",
   "metadata": {},
   "source": [
    "#### For inversion\n",
    "\n",
    "How do we turn our inversion problem into something Newton's method is appropriate to solve?\n",
    "\n",
    "Suppose we want to solve the inversion problem from above where our forward model is described by the equation\n",
    "\n",
    "$$ y = \\cos(x) $$\n",
    "\n",
    "and we have a given output of the model $y=y_d$ (the subscript $d$ is added to emphasise given data).\n",
    "\n",
    "Given these two pieces of information, what is $x$?\n",
    "\n",
    "Let's first plot our situation for a particular value of $y_d$."
   ]
  },
  {
   "cell_type": "code",
   "execution_count": 3,
   "metadata": {},
   "outputs": [
    {
     "data": {
      "text/plain": [
       "<matplotlib.legend.Legend at 0x23d33a08e48>"
      ]
     },
     "execution_count": 3,
     "metadata": {},
     "output_type": "execute_result"
    },
    {
     "data": {
      "image/png": "[encoded data removed]",
      "text/plain": [
       "<Figure size 432x432 with 1 Axes>"
      ]
     },
     "metadata": {
      "needs_background": "light"
     },
     "output_type": "display_data"
    }
   ],
   "source": [
    "fig = plt.figure(figsize=(6, 6))\n",
    "ax1 = plt.subplot(111)\n",
    "\n",
    "x = np.linspace(-10,10,1000)\n",
    "y = np.cos(x)\n",
    "# plot the cos(x) part\n",
    "ax1.plot(x, y, 'b', label=r'$y=\\cos(x)$')\n",
    "# plot the y value we have (our data)\n",
    "yd = 0.5\n",
    "xlim = ax1.get_xlim()\n",
    "ax1.plot([xlim[0], xlim[1]], [yd, yd], 'k--', label='$y=y_d$')\n",
    "ax1.set_ylim([-1.1,1.1])\n",
    "ax1.set_xlabel('$x$', fontsize=16)\n",
    "ax1.set_ylabel('$y$', fontsize=16)\n",
    "ax1.set_title('Nonlinear inversion - scalar example', fontsize=16)\n",
    "ax1.legend(bbox_to_anchor=(1.05, 1), loc='upper left', fontsize=14)"
   ]
  },
  {
   "cell_type": "markdown",
   "metadata": {},
   "source": [
    "If you think about this plot you should be able to see that we can specify inversion problems very easily that have no solutions (non-existence), or infinitely many (non-uniqueness) solutions - these are very possible scenarios to encounter, not just a mathematical peculiarity.\n",
    "\n",
    "To solve this problem using Newton's method we just need to formulate it in a way that this method works with, i.e. as a root-finding problem:\n",
    "\n",
    "let's define the function we want to find the root of as the one whose solution is also a solution to our inversion problem, e.g.\n",
    "\n",
    "$$\\hat{f}:=y_d - \\cos(x)$$"
   ]
  },
  {
   "cell_type": "code",
   "execution_count": 4,
   "metadata": {},
   "outputs": [
    {
     "name": "stdout",
     "output_type": "stream",
     "text": [
      "1.0471975511965979\n",
      "1.0471975511966034\n",
      "0.4999999999999951\n"
     ]
    }
   ],
   "source": [
    "yd = 0.5\n",
    "    \n",
    "def fh(x):\n",
    "    return yd - np.cos(x)\n",
    "\n",
    "def dfhdx(x):\n",
    "    return np.sin(x)\n",
    "\n",
    "# initial guess\n",
    "x0 = 1.0\n",
    "print(sop.newton(fh, x0, dfhdx))\n",
    "\n",
    "\n",
    "# and if you don't have the derivative function it will use a quasi-Newton approach:\n",
    "print(sop.newton(fh, x0))\n",
    "\n",
    "# check our solution\n",
    "print(np.cos(sop.newton(fh, x0)) )"
   ]
  },
  {
   "cell_type": "markdown",
   "metadata": {},
   "source": [
    "Can you remember what Newton's iterative updates do?\n",
    "\n",
    "Why would an initial guess of 0 be bad, what about a very small value for the initial guess?\n",
    "\n",
    "Test in the code above.\n",
    "\n",
    "Can you come up with some data (i.e. a $y_d$ value) such that this problem has no solution, what does the Newton function do in this case?"
   ]
  },
  {
   "cell_type": "markdown",
   "metadata": {},
   "source": [
    "#### In multi-dimensions\n",
    "\n",
    "Note that we will be interested in multi-dimensional problems in this module. Newton's method does generalise to multi-dimensional problems - the division by the derivative at each iteration is replaced by the need to solve a linear system comprising the Jacobian matrix - but this is expensive and so a number of more efficient nonlinear optimisation algorithms have been developed (cf. later for the equivalence between inversion and optimisation problems)."
   ]
  },
  {
   "cell_type": "markdown",
   "metadata": {},
   "source": [
    "### Multi-dimensional and nonlinear problems\n",
    "\n",
    "In this module, we will look at methods that can be used to solve the multi-dimensional analogue of our original problem, that is find a solution for the vector $\\boldsymbol{x}$ given the equation  \n",
    "\n",
    "$$\\boldsymbol{y} = F(\\boldsymbol{x})$$\n",
    "\n",
    "and in this module it will be vital that we consider scenarios where  $\\boldsymbol{x}$ and $\\boldsymbol{y}$ may be of different lengths, i.e. live in spaces with different numbers of dimensions, either of which may also be very large, and where $F$ is an operator that maps a  vector with the dimensions of $\\boldsymbol{x}$ into a vector with the dimensions of $\\boldsymbol{y}$.  \n",
    "\n",
    "<br>\n",
    "\n",
    "In practice, we will also seldom have an analytical form for $F$.\n",
    "Also in general $F$ will not be a matrix; rather it is a (typically non-linear) function that turns one vector into another. You can think of it also as a large complicated numerical model/computer code that calculates $\\boldsymbol{y}$ for us given a particular value for $\\boldsymbol{x}$.\n",
    "\n",
    "<br>\n",
    "\n",
    "However, also note that numerical approaches to solve completely general problems such as this often approximate it as a series of linear/matrix problems (i.e. solve a nonlinear problem by considering a series of linear problems - note this is also what Newton's method does), and that is why we focus on situations where our inversion problem can be written as a linear system.   \n",
    "\n",
    "Also, the concepts we learn and issues we appreciate can be more easily understood in the linear/matrix system, but these concepts are still highly applicable to/representative of the nonlinear case. "
   ]
  },
  {
   "cell_type": "markdown",
   "metadata": {},
   "source": [
    "### Terminology\n",
    "\n",
    "#### Parameter estimation and inversion\n",
    "\n",
    "Note that in the above abstract discussion, if we consider $\\boldsymbol{y}$ to be a vector of observations (data), and $\\boldsymbol{x}$ to be a vector of model parameters that control a model ($F$), \n",
    "\n",
    "then the problem: given $\\boldsymbol{y}$ find $\\boldsymbol{x}$ is often called a *parameter estimation problem*.\n",
    "\n",
    "<br>\n",
    "\n",
    "Note that the $\\boldsymbol{x}$ we want to invert for, or estimate, doesn't have to include ALL parameters that govern the model, i.e. all inputs to the model. \n",
    "\n",
    "In this case you may see notation something like\n",
    "\n",
    "$$F(\\boldsymbol{x}_1;\\boldsymbol{x}_2) = \\boldsymbol{y}$$\n",
    "\n",
    "The semi-colon helps differentiate different types of variables/parameters that are input into the model, e.g. those that we wish to invert for and those that will remain fixed during the inversion. \n",
    "\n",
    "For example, a known physical parameter may be fixed (gravity or fluid viscosity), whereas there are other parameters such as those describing the geology, the initial condition, etc, that either aren't known, or there is uncertainty over their precise values.\n",
    "\n",
    "<br>\n",
    "\n",
    "Sometimes when we have a relatively small number of \"parameters\" to invert for people use the term \"parameter estimation\", but when there are a large number, e.g. representing an entire unknown field, people tend to use the language \"inverse problem\", but it's really the same thing.\n"
   ]
  },
  {
   "cell_type": "markdown",
   "metadata": {},
   "source": [
    "#### Model and parameters\n",
    "\n",
    "Note also that different communities use the term *model* in different contexts.\n",
    "\n",
    "Mathematicians/computational scientists would probably refer to $F$ (or $\\boldsymbol{y} = F(\\boldsymbol{x})$) as the \"model\", e.g. the underlying equations (or their discretisation in a computer code), and $\\boldsymbol{x}$ as \"parameters\".\n",
    "\n",
    "Others would refer to $F$ as the operator (and think of it as a given, and in a sense not a \"model\"; they may also refer to $F(\\boldsymbol{x})=\\boldsymbol{y}$ as the \"mathematical model\"), and would reserve the word \"model\" for the parameters $\\boldsymbol{x}$ being inverted for. \n",
    "\n",
    "<br>\n",
    "\n",
    "In seismic inversion problems for example this is because it represents a \"model\" for the real geological make-up of the subsurface.  \n",
    "\n",
    "In fluid dynamics we would probably call this a \"parametrisation\" of some unknown, uncertain or unresolved physical process - again \"parameter\"!\n",
    "\n",
    "<br>\n",
    "\n",
    "In what follows I will generally try to stick to the language that $\\boldsymbol{y}=F(\\boldsymbol{x})$ is the model (e.g. a wave equation or the Navier-Stokes equations and specifically their implementation in code), with $ \\boldsymbol{y}$ the data (or variables that can be post-processed into a form that can be compared to observational data) and *some of* the $\\boldsymbol{x}$ the parameters.  \n",
    "\n",
    "<br>\n",
    "\n",
    "<br>\n",
    "\n",
    "However, moving forward I will use common seismic inversion notation for the linear(ised) case we will mostly consider:\n",
    "\n",
    "$$G\\boldsymbol{m}=\\boldsymbol{d}$$\n",
    "\n",
    "where $G$ is a matrix representing the linear *model*, $\\boldsymbol{d}$ is *data* and $\\boldsymbol{m}$ are *parameters* we are inverting for."
   ]
  },
  {
   "cell_type": "markdown",
   "metadata": {},
   "source": [
    "# Linear algebra review\n",
    "\n",
    "It turns out that to understand inversion problems linear algebra is key (even when we have nonlinear problems). So let's quickly review some notation and key results.\n",
    "\n",
    "## Notation & terminology\n",
    "\n",
    "### Vectors and matrices\n",
    "\n",
    "\n",
    "- We will use bold fonts to indicate vectors, e.g. $\\boldsymbol{x } $ :\n",
    "\n",
    "$$ \\boldsymbol{x} = (x_1,x_2,\\ldots, x_m)^T$$\n",
    "\n",
    "(the transpose is here since we generally assume a vector is a *column* vector (i.e. has dimension, or shape, $m\\times 1$), but it's clearly easier and more compact to display it as the transpose of a *row* vector in writing - note that when writing on paper it's common to indicate a bold symbol with an underline: $\\boldsymbol{x} \\equiv \\underline{x} $. Sometimes people will use $\\vec{x}$.)\n",
    "\n",
    "- and capital letters to indicate matrices, e.g. $A$:\n",
    "\n",
    "$$A = \n",
    "\\begin{pmatrix}\n",
    "a_{11} & a_{12} \\\\\n",
    "a_{21} & a_{22}\n",
    "\\end{pmatrix}$$\n",
    "\n",
    "\n",
    "- Subscript letters or numbers will be used to indicate components of arrays or matrices, e.g. $x_i$ is the $i$-th component of the vector $\\boldsymbol{x}$, and $a_{ij}$ is the entry from the $i$-th row and the $j$-th column of the matrix $A$, with of course us needing to be careful over our numbering which starts from zero in our Python implementations.\n",
    "\n",
    "\n",
    "- We will identify column vectors of the matrix $A$ as\n",
    "\n",
    "$$A = \\begin{pmatrix}\n",
    "      &     &         &     \\\\\n",
    "  \\boldsymbol{a}_{\\,:1} & \\boldsymbol{a}_{\\,:2} &  \\ldots & \\boldsymbol{a}_{\\,:n} \\\\\n",
    "      &     &         &     \n",
    "\\end{pmatrix}$$\n",
    "\n",
    "i.e. $\\boldsymbol{a}_{\\,:j}$ indicates the $j$-th column of matrix $A$.\n",
    "\n",
    "\n",
    "\n",
    "- Square or rounded (i.e. paretheses) brackets are both fine for vectors and matrices (not for intervals where they mean different things!). \n",
    "\n",
    "<br>\n",
    "\n",
    "\n",
    "See also <https://en.wikipedia.org/wiki/Matrix_(mathematics)#Notation>\n",
    "\n",
    "Note that I've made the choice to start my indices at '1' for the purposes of writing things down mathematically. \n",
    "\n",
    "You could choose to start with '0' to better match Python indexing if you want, you just need to be consistent."
   ]
  },
  {
   "cell_type": "markdown",
   "metadata": {},
   "source": [
    "## Matrix dimension\n",
    "\n",
    "A general [matrix](https://en.wikipedia.org/wiki/Matrix_(mathematics)) of dimension (shape in NumPy) $m \\times n$ is\n",
    "\n",
    "\\begin{pmatrix}\n",
    "    a_{11} & a_{12} & \\dots & a_{1n} \\\\\n",
    "    a_{21} & a_{22} & \\dots & a_{2n} \\\\\n",
    "    \\vdots & \\vdots & \\ddots & \\vdots \\\\\n",
    "    a_{m1} & a_{m2} & \\dots & a_{mn}   \n",
    "\\end{pmatrix}\n",
    "\n",
    "where for a real matrix all *entries* $a_{ij}\\in\\mathbb{R}$, i.e. are real numbers, and for a complex matrix $a_{ij}\\in\\mathbb{C}$.  \n",
    "\n",
    "Mathematically we could also write $A\\in\\mathbb{R}^{m\\times n}$ or $A\\in\\mathbb{C}^{m\\times n}$.\n",
    "\n",
    "We would say out loud that the matrix is of dimension \"m rows by n columns\" or just \"m by n\".\n",
    "\n",
    "The convention is to state the number of rows first, and columns second - we will see why this is sensible when we talk about matrix multiplication - indeed thinking about matrix multiplication is exactly how I remember that incrementing the first index ($i$) means we move down, and incrementing the second index ($j$) means we move to the right.\n",
    "\n",
    "A *square* matrix is one where $m=n$.\n",
    "\n",
    "An $m\\times 1$ matrix is also a *column vector*.\n",
    "\n",
    "A $1\\times n$ matrix is also a *row vector*."
   ]
  },
  {
   "cell_type": "code",
   "execution_count": 5,
   "metadata": {},
   "outputs": [
    {
     "name": "stdout",
     "output_type": "stream",
     "text": [
      "[[ True  True]\n",
      " [ True  True]]\n",
      "True\n",
      "\n",
      " [[ True  True]\n",
      " [ True False]]\n",
      "False\n"
     ]
    }
   ],
   "source": [
    "A = np.array([[1, 2], [3, 4]])\n",
    "B = np.array([[1, 2], [3, 4]])\n",
    "\n",
    "# the following compares element-wise\n",
    "print(A==B)\n",
    "# above works on pairs of entries element-wise, \n",
    "\n",
    "# while array_equal looks at the whole array.\n",
    "print(np.array_equal(A,B))\n",
    "\n",
    "# change one of the entries\n",
    "B = np.array([[1, 2], [3, 5]])\n",
    "\n",
    "print('\\n',A==B)\n",
    "print(np.array_equal(A,B))"
   ]
  },
  {
   "cell_type": "markdown",
   "metadata": {},
   "source": [
    "## Be careful about assignments vs copies\n",
    "\n",
    "See the two examples below, and discussions at \n",
    "\n",
    "<https://www.jessicayung.com/numpy-views-vs-copies-avoiding-costly-mistakes/>\n",
    "\n",
    "<https://numpy.org/devdocs/user/quickstart.html#copies-and-views>"
   ]
  },
  {
   "cell_type": "code",
   "execution_count": 6,
   "metadata": {},
   "outputs": [
    {
     "name": "stdout",
     "output_type": "stream",
     "text": [
      "True\n",
      "True\n",
      "True\n",
      "False\n"
     ]
    }
   ],
   "source": [
    "A = np.array([[1, 2], [3, 4]])\n",
    "B = A\n",
    "\n",
    "# the following should of course be true\n",
    "print(np.array_equal(A,B))\n",
    "\n",
    "# is it still true if we update one of the entries of ONE of the matrices but not the other?\n",
    "B[0]=2\n",
    "print(np.array_equal(A,B))\n",
    "\n",
    "# we may or may not want the above behaviour\n",
    "\n",
    "# alternatively we can make a copy before we start making changes:\n",
    "A = np.array([[1, 2], [3, 4]])\n",
    "B = np.copy(A)\n",
    "print(np.array_equal(A,B))\n",
    "B[0]=2\n",
    "print(np.array_equal(A,B))"
   ]
  },
  {
   "cell_type": "markdown",
   "metadata": {},
   "source": [
    "## Transpose of a matrix\n",
    "\n",
    "- If $A=A^T$ we say that $A$ is symmetric.\n",
    "\n",
    "\n",
    "- If $A=-A^T$ we say that $A$ is skew-symmetric (what does this imply the diagonal must be?)\n",
    "\n",
    "\n",
    "\n",
    "### Properties of the transpose operator\n",
    "\n",
    "The following properties are easy to establish:\n",
    "\n",
    "For matrices $A$ and $B$ of appropriate sizes (i.e. [*conformable*](https://en.wikipedia.org/wiki/Conformable_matrix) for the given operation - addition or multiplication - see later) and a scalar $\\alpha$:\n",
    "\n",
    "\n",
    "1. $(A+B)^T = A^T + B^T$\n",
    "\n",
    "\n",
    "2. $(\\alpha A)^T = \\alpha (A^T)$\n",
    "\n",
    "\n",
    "3. $(AB)^T = B^T A^T$\n",
    "\n",
    "\n",
    "4. $(A^T)^T = A$\n",
    "\n",
    "\n",
    "As an exercise you can try and prove these from the mathematical definitions, and also demonstrate for some simple matrices using appropriate NumPy commands. The third is particularly interesting and perhaps non-obvious so worth trying to prove/verify - see the homework exercises.\n",
    "\n",
    "NB. We haven't actually defined matrix multiplication ($AB$) yet, but we will do so shortly.\n",
    "\n",
    "How does the multiplicative property expand to more matrices, i.e. what is $(ABC)^T$?"
   ]
  },
  {
   "cell_type": "markdown",
   "metadata": {},
   "source": [
    "## Matrix-vector multiplication\n",
    "\n",
    "### Mathematical definition\n",
    "\n",
    "This is a good point to review how we can pre-multiply a vector by a matrix, and code up this operation ourselves.\n",
    "\n",
    "[Note that matrix-vector multiplication is just a special case of the more general matrix-matrix multiplication].\n",
    "\n",
    "Given an $m\\times n$ matrix $A$ and a vector $\\boldsymbol{x}\\;$ the product is a new vector we will call $\\boldsymbol{b}\\;$:\n",
    "\n",
    "$$ A\\boldsymbol{x}=\\boldsymbol{b}$$\n",
    "\n",
    "The size of $A$ dictates the size of $\\boldsymbol{x}\\;$ where this product makes sense (is defined), and tells us the resulting size of $\\boldsymbol{b}\\;$: \n",
    "\n",
    "if $A$ is $m\\times n$, then \n",
    "$\\boldsymbol{x}\\;$ has to be $n\\times 1$  and $\\boldsymbol{b}\\;$ will then be  $m\\times 1$.\n",
    "\n",
    "\n",
    "$$b_i = \\sum_{j=1}^n a_{ij} x_j \\quad\\text{for}\\quad i=1,\\ldots, m $$\n"
   ]
  },
  {
   "cell_type": "markdown",
   "metadata": {},
   "source": [
    "### Code\n",
    "\n",
    "Let's implement our own matrix vector product function"
   ]
  },
  {
   "cell_type": "code",
   "execution_count": 7,
   "metadata": {},
   "outputs": [],
   "source": [
    "def mat_vec_product(A, x):\n",
    "    \"\"\"Function to compute the matrix vector product Ax.\n",
    "\n",
    "    Parameters\n",
    "    ----------\n",
    "    A : ndarray\n",
    "        Some matrix A with shape (m,n)\n",
    "    x : array_like\n",
    "        Some vector x with shape (n,)\n",
    "\n",
    "    Returns\n",
    "    -------\n",
    "    b : ndarray\n",
    "        RHS vector b with shape (m,)\n",
    "    \"\"\"\n",
    "    m, n = np.shape(A)\n",
    "    assert x.ndim == 1 # restrict to the case where x is 1D\n",
    "    assert n == len(x) # as 1D we can check the length of x is consistent with A\n",
    "    b = np.zeros(m) # and then initialise to zero the appropriate length array for b\n",
    "    for i in range(m):\n",
    "        for j in range(n):\n",
    "            b[i] += A[i, j] * x[j]\n",
    "    return b"
   ]
  },
  {
   "cell_type": "markdown",
   "metadata": {},
   "source": [
    "We'll test this shortly, but first well think about some properties and see how to do this in NumPy."
   ]
  },
  {
   "cell_type": "markdown",
   "metadata": {},
   "source": [
    "### Properties\n",
    "\n",
    "Note that the action of multiplying by a matrix is what is called a [linear operator](https://en.wikipedia.org/wiki/Linear_map). This means that matrix multiplication satisfies the properties (for a matrix $A$, vectors $\\boldsymbol{x}$ and $\\boldsymbol{y}$, and scalar $\\alpha$)\n",
    "\n",
    "\n",
    "1. $A (x + y) = Ax + Ay$\n",
    "\n",
    "\n",
    "2. $A (\\alpha x) = \\alpha A x$"
   ]
  },
  {
   "cell_type": "markdown",
   "metadata": {},
   "source": [
    "### Matrix multiplication using NumPy\n",
    "\n",
    "We can easily work out that for any $2 \\times 2$ matrix $A$ and\n",
    "\n",
    "$$\\boldsymbol{x} = \\begin{pmatrix}\n",
    "    1\\\\\n",
    "    1\n",
    "\\end{pmatrix}$$ \n",
    "\n",
    "Notice that in this case $A\\boldsymbol{x}$ will just be the vector which is the summation of the columns of $A$. \n",
    "\n",
    "[We'll come back to this idea of interpreting matrix vector multiplication as a weighted sums of the columns of the matrix shortly.]\n",
    "\n",
    "Let's test this using NumPy."
   ]
  },
  {
   "cell_type": "code",
   "execution_count": 8,
   "metadata": {},
   "outputs": [
    {
     "name": "stdout",
     "output_type": "stream",
     "text": [
      "[[ 2  3]\n",
      " [ 1 -4]]\n",
      "\n",
      " [[ 2  3]\n",
      " [ 1 -4]]\n"
     ]
    }
   ],
   "source": [
    "A = np.array([[2, 3], [1, -4]])\n",
    "x = np.array([1, 1])\n",
    "\n",
    "print(A)\n",
    "print('\\n',A*x)"
   ]
  },
  {
   "cell_type": "markdown",
   "metadata": {},
   "source": [
    "**Not** what we were expecting.  \n",
    "\n",
    "The `*` operator is equivalent to `np.multiply` <https://docs.scipy.org/doc/numpy/reference/generated/numpy.multiply.html>, \n",
    "\n",
    "this is the same as the elementwise product in Matlab: `.*`. \n",
    "\n",
    "We want the `@` operator:"
   ]
  },
  {
   "cell_type": "code",
   "execution_count": 9,
   "metadata": {},
   "outputs": [
    {
     "name": "stdout",
     "output_type": "stream",
     "text": [
      "[[ 2  3]\n",
      " [ 1 -4]]\n",
      "\n",
      " [ 5 -3]\n"
     ]
    }
   ],
   "source": [
    "A = np.array([[2, 3], [1, -4]])\n",
    "x = np.array([1, 1])\n",
    "\n",
    "print(A)\n",
    "print('\\n',A@x)"
   ]
  },
  {
   "cell_type": "markdown",
   "metadata": {},
   "source": [
    "Note that the `@` operator was introduced relatively recently. If you look at older code you may see the use of \n",
    "`numpy.dot` <https://numpy.org/devdocs/reference/generated/numpy.dot.html> or `numpy.matmul` <https://numpy.org/devdocs/reference/generated/numpy.matmul.html#numpy.matmul>"
   ]
  },
  {
   "cell_type": "code",
   "execution_count": 10,
   "metadata": {},
   "outputs": [
    {
     "name": "stdout",
     "output_type": "stream",
     "text": [
      "[ 5 -3]\n",
      "\n",
      " [ 5 -3]\n"
     ]
    }
   ],
   "source": [
    "A = np.array([[2, 3], [1, -4]])\n",
    "x = np.array([1, 1])\n",
    "\n",
    "print(np.dot(A,x))   #  or   print('\\n',A.dot(x))\n",
    "print('\\n',np.matmul(A,x))   #  or print('\\n',A.matmul(x))"
   ]
  },
  {
   "cell_type": "markdown",
   "metadata": {},
   "source": [
    "### Testing our code against Numpy\n",
    "\n",
    "OK, so now we know how to do matrix-vector multiplication properly with NumPy, let's use it to check our code."
   ]
  },
  {
   "cell_type": "code",
   "execution_count": 11,
   "metadata": {},
   "outputs": [
    {
     "name": "stdout",
     "output_type": "stream",
     "text": [
      "[ 5. -3.]\n",
      "mat_vec_product(A, x) == A@x:   True\n",
      "[ 5. -3.  2.]\n",
      "mat_vec_product(A, x) == A@x:   True\n"
     ]
    }
   ],
   "source": [
    "A = np.array([[2, 3], [1, -4]])\n",
    "x = np.array([1, 1])\n",
    "\n",
    "print(mat_vec_product(A,x))\n",
    "print('mat_vec_product(A, x) == A@x:  ', np.allclose(mat_vec_product(A, x), A@x))\n",
    "# numpy.allclose is a convenient function to check that two arrays are essentially \n",
    "# (i.e. to round off) equivalent\n",
    "\n",
    "# Check a non-square matrix\n",
    "A = np.array([[2, 3], [1, -4], [1,1]])\n",
    "# based on the above weighted sum of columns, what should Ax be for the following x?\n",
    "x = np.array([1, 1])\n",
    "\n",
    "print(mat_vec_product(A,x))\n",
    "print('mat_vec_product(A, x) == A@x:  ', np.allclose(mat_vec_product(A, x), A@x))"
   ]
  },
  {
   "cell_type": "markdown",
   "metadata": {},
   "source": [
    "## A valuable geometrical interpretation of matrix-vector multiplication\n",
    "\n",
    "If you think about it, the resultant vector $\\boldsymbol{b}$ in \n",
    "\n",
    "$$ \\boldsymbol{b} = A\\boldsymbol{x}$$\n",
    "\n",
    "\n",
    "is the weighted sum (i.e. a linear combination) of the columns of $A$, where the weighting of each column comes from the entries of $\\boldsymbol{x}$:\n",
    "\n",
    "\\begin{align}\n",
    "\\begin{pmatrix}\n",
    "    b_1\\\\\n",
    "    b_2\\\\\n",
    "    \\vdots\\\\\n",
    "    b_m\n",
    "\\end{pmatrix}\n",
    "&=\n",
    "\\begin{pmatrix}\n",
    "      &     &         &     \\\\      \n",
    "      &     &         &     \\\\      \n",
    "  \\boldsymbol{a}_{\\,:1} & \\boldsymbol{a}_{\\,:2} &  \\ldots & \\boldsymbol{a}_{\\,:n} \\\\\n",
    "      &     &         &     \\\\\n",
    "      &     &         &     \\\\\n",
    "\\end{pmatrix}\n",
    "\\begin{pmatrix}\n",
    "    x_1\\\\\n",
    "    x_2\\\\\n",
    "    \\vdots\\\\\n",
    "    x_n\n",
    "\\end{pmatrix}\\\\\n",
    "&=\n",
    "x_1 \n",
    "\\begin{pmatrix}\n",
    "       \\\\\n",
    "       \\\\\n",
    "   \\boldsymbol{a}_{\\,:1} \\\\\n",
    "       \\\\\n",
    "    ~   \n",
    "\\end{pmatrix}\n",
    "+\n",
    "x_2 \n",
    "\\begin{pmatrix}\n",
    "       \\\\\n",
    "       \\\\\n",
    "   \\boldsymbol{a}_{\\,:2} \\\\\n",
    "       \\\\\n",
    "    ~   \n",
    "\\end{pmatrix}\n",
    "+ \\cdots +\n",
    "x_n\n",
    "\\begin{pmatrix}\n",
    "       \\\\\n",
    "       \\\\\n",
    "   \\boldsymbol{a}_{\\,:n} \\\\\n",
    "       \\\\\n",
    "    ~   \n",
    "\\end{pmatrix}\n",
    "\\end{align}\n",
    "\n",
    "where we have used the notation $\\boldsymbol{a}_{\\,:j}$ to indicate the $j$-th column of matrix $A$.\n",
    "\n",
    "If you find it easier to think about things geometrically, then you will see later that this is a very useful way to think about what's going on when you multiply a matrix by a vector.\n",
    "\n",
    "<br>\n",
    "\n",
    "A homework exercise asks you to code up a version of matrix-vector multiplication based on this mathematical interpretation."
   ]
  },
  {
   "cell_type": "markdown",
   "metadata": {},
   "source": [
    "We'll come back to this interpretation in later lectures, but for now consider briefly a $2\\times 2$ case (and so $A$ maps vectors or points in $\\mathbb{R}^2$ to $\\mathbb{R}^2$).\n",
    "\n",
    "What properties of the columns of $A$ do we require so that we know in advance that for *any* $\\boldsymbol{b}$ we choose or are given we can always find a corresponding solution $\\boldsymbol{x}$?"
   ]
  },
  {
   "cell_type": "markdown",
   "metadata": {},
   "source": [
    "# Some inversion (parameter estimation) examples\n",
    "\n",
    "## A linear model (polynomial interpolation)\n",
    "\n",
    "<br>\n",
    "\n",
    "We have seen a useful example in previous modules.\n",
    "\n",
    "<br>\n",
    "\n",
    "Suppose that our \"model\" is given by the polynomial (of degree $N$) function\n",
    "\n",
    "$$f(x; \\boldsymbol{a} ) = a_0 + a_1 x + a_2 x^2 + a_3 x^3 + \\ldots a_N x^N$$\n",
    "\n",
    "<br>\n",
    "\n",
    "For a given, fixed vector $\\boldsymbol{a}$, $f$ can be thought of as taking in a scalar $x$ and returning a scalar $y$.\n",
    "\n",
    "<br>\n",
    "\n",
    "The vector of $N+1$ parameters $\\boldsymbol{a}$ fully describes our model, and in this case our model is linear in these parameters (and hence the process of finding the parameters is sometimes termed [linear regression](https://en.wikipedia.org/wiki/Linear_regression)). \n",
    "\n",
    "We will see that we end up with a linear problem to solve, even though our model is nonlinear in the parameter(s) $x$ we do not invert for. \n",
    "\n",
    "\n",
    "<br>\n",
    "\n",
    "You can think of $x$ as locations we evaluate our model at, while $\\boldsymbol{a}$ are unknown input parameters to our model that describe in some sense the governing \"physics\".\n",
    "\n",
    "\n",
    "For the inversion problem we are assuming we know the $x$'s (e.g. maybe these are the locations our data is collected at) and the $y$'s (the observations of the output of our problem/model at these locations), and we want to find $\\boldsymbol{a}$ (i.e. the parameters that govern our model).\n",
    "\n",
    "\n",
    "We described this problem as polynomial interpolation in *Numerical Methods*, and as long as we are given $N+1$ data points $(x_i, y_i)$ (with distinct $x_i$'s) we can solve it for $\\boldsymbol{a}$ and thus fix/fully define our \"model\"."
   ]
  },
  {
   "cell_type": "markdown",
   "metadata": {},
   "source": [
    "## Problems leading to a square linear/matrix system\n",
    "\n",
    "First of all let's consider the case where we match the number of model parameters to the number of data points we have.\n",
    "\n",
    "<br>\n",
    "\n",
    "### Fitting a single data point\n",
    "\n",
    "The polynomial that fits the single data point $(x_0,y_0)$ is clearly simply the *constant* function given by\n",
    "\n",
    "$$ y = f(x; \\boldsymbol{a} ) \\equiv a_0 $$\n",
    "\n",
    "where through subsitution of the data we have\n",
    "\n",
    "$$ a_0 = f(x_0; \\boldsymbol{a} ) = y_0 $$\n",
    "\n",
    "So this case is completely trivial.\n",
    "\n",
    "<br>\n",
    "\n",
    "### Fitting two data points\n",
    "\n",
    "The polynomial that fits the two data points $\\{(x_0,y_0),(x_1,y_1)\\}$ is clearly the *linear* function given by\n",
    "\n",
    "$$ y = f(x; \\boldsymbol{a} ) \\equiv a_0 + a_1\\,x$$\n",
    "\n",
    "where through substitution of our data into the functional form we arrive at two simultaneous equations for two unknown parameters (or a $2\\times 2$ matrix system)\n",
    "\n",
    "\\begin{align*}\n",
    "(1) & \\;\\;\\;\\; y_0 = a_0 + a_1\\,x_0, \\\\[5pt]\n",
    "(2) & \\;\\;\\;\\; y_1 = a_0 + a_1\\,x_1. \n",
    "\\end{align*}\n",
    "\n",
    "<br>\n",
    "\n",
    "[A homework exercise asks you to solve this problem via substitution and show that the solution is\n",
    "\n",
    "$$ a_0 = y_0 - \\frac{y_1-y_0}{x_1-x_0}x_0, \\;\\;\\;\\;\\;\\;\\;\\; a_1 = \\frac{y_1-y_0}{x_1-x_0}. $$\n",
    "\n",
    "]\n",
    "\n",
    "\n",
    "\n",
    "However, the substitution approach isn't easy to do with large amounts of data/large dimensional $\\boldsymbol{a}$.\n",
    "\n",
    "\n",
    "Instead we can note that inverting for our $\\boldsymbol{a}$ parameters in this case is equivalent to forming and solving the linear system\n",
    "\n",
    "$$\n",
    "\\begin{pmatrix}\n",
    "1 & x_0  \\\\\n",
    "1 & x_1 \n",
    "\\end{pmatrix}\n",
    "\\begin{pmatrix}\n",
    "a_0\\\\\n",
    "a_1\n",
    "\\end{pmatrix}\n",
    "=\n",
    "\\begin{pmatrix}\n",
    "y_0\\\\\n",
    "y_1\n",
    "\\end{pmatrix}.\n",
    "$$\n",
    "\n",
    "<br>\n",
    "\n",
    "Let's implement and plot some examples to check that this is correct visually in these cases on one and two parameters."
   ]
  },
  {
   "cell_type": "code",
   "execution_count": 12,
   "metadata": {
    "scrolled": false
   },
   "outputs": [
    {
     "data": {
      "image/png": "[encoded data removed]",
      "text/plain": [
       "<Figure size 720x288 with 2 Axes>"
      ]
     },
     "metadata": {
      "needs_background": "light"
     },
     "output_type": "display_data"
    }
   ],
   "source": [
    "def plot_raw_data(xi, yi, ax):\n",
    "    \"\"\"plot x vs y on axes ax, \n",
    "    add axes labels and turn on grid\n",
    "    \"\"\"\n",
    "    ax.plot(xi, yi, 'ko', label='raw data')\n",
    "    ax.set_xlabel('$x$', fontsize=16)\n",
    "    ax.set_ylabel('$y$', fontsize=16)\n",
    "    ax.grid(True)\n",
    "\n",
    "# set up our figs for plotting - we want two subplots arranged in a 1x2 grid\n",
    "fig, (ax1, ax2) = plt.subplots(1, 2, figsize=(10, 4))\n",
    "fig.tight_layout(w_pad=5)  # add some padding otherwise the axes labels overlap\n",
    "\n",
    "#### single data point example\n",
    "xi = [0.5]\n",
    "yi = [0.5]\n",
    "\n",
    "# plot the raw data on our first axis (ax1)\n",
    "plot_raw_data(xi, yi, ax1)\n",
    "\n",
    "# set up a grid of equally spaced x points to plot our functions over\n",
    "x = np.linspace(0., 1., 100)\n",
    "\n",
    "# np.ones_like(x) gives us a numpy array of 1's of the same size as x\n",
    "# we need arrays of the same length for plotting\n",
    "y = yi*np.ones_like(x)\n",
    "\n",
    "# plot the p/w constant line and give it a label for use in a legend\n",
    "# use the first of our two axis labels (ax1)\n",
    "ax1.plot(x, y, 'b', label='Constant')\n",
    "\n",
    "# add a figure title\n",
    "ax1.set_title('Polynomial approx to single data point', fontsize=16)\n",
    "# Add a legend\n",
    "ax1.legend(loc='best', fontsize=14)\n",
    "# set bounds on the view\n",
    "ax1.set_xlim(0, 1)\n",
    "ax1.set_ylim(0, 1)\n",
    "\n",
    "#### two data point example\n",
    "xi = [0.3, 0.7]\n",
    "yi = [0.2, 0.8]\n",
    "\n",
    "# plot the raw data\n",
    "plot_raw_data(xi, yi, ax2)\n",
    "\n",
    "# redefine x - just in case we wanted to edit for second plot\n",
    "x = np.linspace(0., 1., 100)\n",
    "\n",
    "# these are the mathematical expressions derived above\n",
    "# for the polynomial (linear) coefficients\n",
    "a0 = yi[0] - ((yi[1] - yi[0]) / (xi[1] - xi[0])) * xi[0]\n",
    "a1 = ((yi[1] - yi[0]) / (xi[1] - xi[0]))\n",
    "# we'll form and solve the linear system for the 3x3 case next\n",
    "\n",
    "# form the linear at the x locations using array operations\n",
    "y = a0 + a1*x\n",
    "\n",
    "# plot on the second of our two axis labels (ax2)\n",
    "ax2.plot(x, y, 'b', label='Linear')\n",
    "\n",
    "# add a figure title\n",
    "ax2.set_title('Polynomial approx to two data points', fontsize=16)\n",
    "# Add a legend\n",
    "ax2.legend(loc='best', fontsize=14)\n",
    "# set bounds\n",
    "ax2.set_xlim(0, 1)\n",
    "ax2.set_ylim(0, 1);"
   ]
  },
  {
   "cell_type": "markdown",
   "metadata": {},
   "source": [
    "### Fitting three data points\n",
    "\n",
    "The polynomial that fits the three data points $\\{(x_0,y_0),(x_1,y_1),(x_2,y_2)\\}$ is of course a quadratic,\n",
    "but things start to get a bit more complicated now if we actually want to solve for the polynomial coefficients.\n",
    "\n",
    "Substituting the data into the quadratic \n",
    "\n",
    "$$ y = f(x; \\boldsymbol{a} ) \\equiv a_0 + a_1\\,x + a_2\\,x^2$$\n",
    "\n",
    "leads to a system of three simultaneous equations, or a $3\\times 3$ linear system to solve. \n",
    "\n",
    "This is a lot more tricky to solve by hand than the $2\\times 2$ system for the linear coefficients that we could solve through substitution quite easily.\n",
    "\n",
    "However, you should be able to show that this system takes the form (and now you should spot a pattern and be able to write down what this would be in the $N+1$ dimension case)\n",
    "\n",
    "$$\n",
    "\\begin{pmatrix}\n",
    "1 & x_0 & x_0^2 \\\\\n",
    "1 & x_1 & x_1^2 \\\\\n",
    "1 & x_2 & x_2^2\n",
    "\\end{pmatrix}\n",
    "\\begin{pmatrix}\n",
    "a_0\\\\\n",
    "a_1\\\\\n",
    "a_2\n",
    "\\end{pmatrix}\n",
    "=\n",
    "\\begin{pmatrix}\n",
    "y_0\\\\\n",
    "y_1\\\\\n",
    "y_2\n",
    "\\end{pmatrix} \\;\\;\\;\\;\\;\\;\\;\\text{or equivalently in matrix notation} \\;\\;\\;\\;\\;\\; V\\boldsymbol{a} =\\boldsymbol{y}.\n",
    "$$\n",
    "\n",
    "If we solve this system by inverting the matrix ($V$) we have our quadratic polynomial coefficients:  $\\boldsymbol{a} = V^{-1}\\boldsymbol{y}$.  Although note in general we prefer to use a linear \"solver\" to obtain the solution rather than explicitly forming the inverse matrix.\n",
    "\n",
    "Let's form and solve the matrix system using appropriate NumPy functions.\n",
    "\n",
    "The matrix $V$ is what's called the Vandermonde matrix and there is a Numpy function for it."
   ]
  },
  {
   "cell_type": "code",
   "execution_count": 13,
   "metadata": {
    "scrolled": false
   },
   "outputs": [
    {
     "name": "stdout",
     "output_type": "stream",
     "text": [
      "V = \n",
      "[[1.   0.3  0.09]\n",
      " [1.   0.5  0.25]\n",
      " [1.   0.8  0.64]]\n",
      "\n",
      " Our coefficients a = \n",
      "[-1.8         8.86666667 -7.33333333]\n",
      "\n",
      "The output from np.polyfit(x, y, 2) = \n",
      " [-7.33333333  8.86666667 -1.8       ]\n",
      "\n",
      "Which agrees with us as long as we reverse the order of our coefficients:\n",
      "np.flip(a, 0) = \n",
      "[-7.33333333  8.86666667 -1.8       ]\n"
     ]
    },
    {
     "data": {
      "text/plain": [
       "(0.0, 1.0)"
      ]
     },
     "execution_count": 13,
     "metadata": {},
     "output_type": "execute_result"
    },
    {
     "data": {
      "image/png": "[encoded data removed]",
      "text/plain": [
       "<Figure size 432x432 with 1 Axes>"
      ]
     },
     "metadata": {
      "needs_background": "light"
     },
     "output_type": "display_data"
    }
   ],
   "source": [
    "# three data point example\n",
    "xi = [0.3, 0.5, 0.8]\n",
    "yi = [0.2, 0.8, 0.6]\n",
    "\n",
    "# use a function to construct the matrix above\n",
    "# note than numpy already has a function to do this\n",
    "V = np.vander(xi, increasing=True)\n",
    "\n",
    "print('V = \\n{}'.format(V))\n",
    "\n",
    "# use a numpy linear algebra solver to solve the system\n",
    "# uses an LU algorithm - see Lecture 3 for details!\n",
    "a = np.linalg.solve(V, yi)\n",
    "\n",
    "# output the coefficients for our quadratic we have computed\n",
    "print('\\n Our coefficients a = \\n{}\\n'.format(a))\n",
    "\n",
    "# show that they are the same as is obtained from \n",
    "# numpy's polyfit function (for a quadratic)\n",
    "# (which of course they should be, given we argued that this polynomial is unique)\n",
    "print('The output from np.polyfit(x, y, 2) = \\n {}'.format(np.polyfit(xi, yi, 2)))\n",
    "\n",
    "# Note that the order is reversed because numpy.poly* assumes decreasing\n",
    "# rather than the increasing powers of x which we have used above\n",
    "\n",
    "# set up figure\n",
    "fig = plt.figure(figsize=(6, 6))\n",
    "ax1 = fig.add_subplot(111)\n",
    "\n",
    "# plot the raw data\n",
    "plot_raw_data(xi, yi, ax1)\n",
    "\n",
    "# x locations at which to evaluate and plot the quadratic polynomial\n",
    "x = np.linspace(0., 1., 100)\n",
    "\n",
    "# Set up a polynomial from the coefficients using numpy rather than writing out.\n",
    "# Use numpy.flip to reverse the coefficients as poly1d assume decreasing rather than\n",
    "# increasing powers - look at documentation\n",
    "p2 = np.poly1d(np.flip(a, 0))\n",
    "print('\\nWhich agrees with us as long as we reverse the order of our coefficients:')\n",
    "print('np.flip(a, 0) = \\n{}'.format(np.flip(a, 0)))\n",
    "\n",
    "# the p2 here is a function so evaluate it at our x locations\n",
    "y = p2(x)\n",
    "\n",
    "# and plot\n",
    "ax1.plot(x, y, 'b', label='Quadratic')\n",
    "\n",
    "# add a figure title\n",
    "ax1.set_title('Polynomial approx to three data points', fontsize=16)\n",
    "# Add a legend\n",
    "ax1.legend(loc='best', fontsize=14)\n",
    "# set bounds\n",
    "ax1.set_xlim(0, 1)\n",
    "ax1.set_ylim(0, 1)"
   ]
  },
  {
   "cell_type": "markdown",
   "metadata": {},
   "source": [
    "### Notation reconciliation\n",
    "\n",
    "Note that to reconcile this with the notation we introduced earlier ...\n",
    "\n",
    "Our scalar problem \n",
    "\n",
    "$$ y = f(x; \\boldsymbol{a} ) \\equiv a_0 + a_1\\,x + a_2\\,x^2$$\n",
    "\n",
    "and data points $\\{(x_0,y_0),(x_1,y_1),(x_2,y_2)\\}$ have been combined into the system\n",
    "\n",
    "\\begin{align}\n",
    "\\begin{pmatrix}\n",
    "y_0\\\\\n",
    "y_1\\\\\n",
    "y_2\\\\\n",
    "\\vdots\n",
    "\\end{pmatrix} &= \n",
    "\\begin{pmatrix}\n",
    "f(x_0; \\boldsymbol{a} )\\\\\n",
    "f(x_1; \\boldsymbol{a} )\\\\\n",
    "f(x_2; \\boldsymbol{a} )\\\\\n",
    "\\vdots\n",
    "\\end{pmatrix}\\\\[10pt]\n",
    "\\iff \n",
    "\\boldsymbol{y} &= \\boldsymbol{f}(\\boldsymbol{x}; \\boldsymbol{a} ) \\\\\n",
    "&= V\\boldsymbol{a}\n",
    "\\end{align}\n",
    "\n",
    "which is equivalent to the notation\n",
    "\n",
    "$$ G \\boldsymbol{m} = \\boldsymbol{d} $$\n",
    "\n",
    "where the data is $\\boldsymbol{d}=\\boldsymbol{y}$, the model parameters are $\\boldsymbol{m}=\\boldsymbol{a}$, and where the governing \"model\" is linear and given by the Vandermonde matrix ($G=V$). \n",
    "\n",
    "So even though our original model $y = f(x; \\boldsymbol{a} )$ wasn't in this form, by considering all of the data together we do end up needing to solve a linear (in $\\boldsymbol{a}$) problem."
   ]
  },
  {
   "cell_type": "markdown",
   "metadata": {},
   "source": [
    "## Problem leading to a non-square linear/matrix system\n",
    "\n",
    "In this module it's very very important we understand and are able to deal with situations that result in non-square problems.\n",
    "\n",
    "As an example, let's suppose we have a case where our model is quadratic, i.e. it has three model parameters:\n",
    "\n",
    "$$ y = f(x; \\boldsymbol{a} ) \\equiv a_0 + a_1\\,x + a_2\\,x^2,$$\n",
    "\n",
    "but let's further suppose we have been given six distinct pieces of data, i.e. we now have a mismatch.\n",
    "\n",
    "We can write this mathematically as\n",
    "\n",
    "$$\n",
    "\\begin{pmatrix}\n",
    "1 & x_0 & x_0^2 \\\\\n",
    "1 & x_1 & x_1^2 \\\\\n",
    "\\vdots & \\vdots & \\vdots \\\\\n",
    "1 & x_5 & x_5^2\n",
    "\\end{pmatrix}\n",
    "\\begin{pmatrix}\n",
    "a_0\\\\\n",
    "a_1\\\\\n",
    "a_2\n",
    "\\end{pmatrix}\n",
    "=\n",
    "\\begin{pmatrix}\n",
    "y_0\\\\\n",
    "y_1\\\\\n",
    "y_2\\\\\n",
    "y_3\\\\\n",
    "y_4\\\\\n",
    "y_5\n",
    "\\end{pmatrix},\n",
    "$$\n",
    "\n",
    "or equivalently $V\\boldsymbol{a} =\\boldsymbol{y}$ where now we have a non-square version of the Vandermonde matrix (read the `numpy.vander` docs).\n",
    "\n",
    "In both the initial problem description, as well as this linear/matrix system, what does it mean to be a solution to this problem?\n",
    "\n",
    "\n",
    "<br>\n",
    "\n",
    "Consider the simpler case of a *linear* (in $x$) model asked to pass through *three* data points. If the three points happended to lie along a line then we can solve the problem, i.e. we can invert for the model parameters. But if not there is no solution (at least no exact solution) that fits all the data."
   ]
  },
  {
   "cell_type": "markdown",
   "metadata": {},
   "source": [
    "### Least squares solution\n",
    "\n",
    "In the language of our Numerical Methods module we are now in the world of curve-fitting rather than interpolation - we can't find a model (curve) that fits all the data exactly, but can still obtain a potentially useful model if we appropriately define \"useful\".\n",
    "\n",
    "<br>\n",
    "\n",
    "Recall that in Numerical Methods we used the command `numpy.polyfit` to fit a polynomial to data where the polynomial wasn't of a high enough degree to go through all the data points (or some of the data points weren't at distinct $x$ values - i.e. two $y$ values for the same $x$, think a cloud of points).\n",
    "\n",
    "<br>\n",
    "\n",
    "Instead of requiring the curve to go through all data points exactly (as for the cases above), we used *least squares* fitting to construct a function $f(x;\\boldsymbol{a})$, e.g. a polynomial in $x$ of degree $N$, (equivalently finding the parameters $\\boldsymbol{a}$)  which minimises the sum of the squares of the differences between $M+1$ data points provided and the polynomial approximation, i.e. it minimises the quantity:\n",
    "\n",
    "$$E := \\sum_{i=0}^{M} (f(x_i;\\boldsymbol{a}) - y_i)^2,$$\n",
    "\n",
    "where $f(x_i;\\boldsymbol{a})$ is the output of our model evaluated at point $x_i$, and the $y_i$ are the corresponding data values.  \n",
    "\n",
    "Note that for the \"cloud of points\" example we will be in the case where $M+1 > N$.\n",
    "\n",
    "<img src=\"https://upload.wikimedia.org/wikipedia/commons/b/b0/Linear_least_squares_example2.svg\" style=\"width: 300px\">\n",
    "\n",
    "*(Wikipedia: https://en.wikipedia.org/wiki/Linear_least_squares) We're computing the sum of the squares of the distances indicated in green.*\n",
    "\n",
    "<br>\n",
    "\n",
    "<br>\n",
    "\n",
    "Note that this error $E$ can be defined equivalently as\n",
    "\n",
    "$$E=\\| \\boldsymbol{f}(\\boldsymbol{x}; \\boldsymbol{a} ) - \\boldsymbol{y}\\|_2^2\n",
    "= || V\\boldsymbol{a} - \\boldsymbol{y}||_2^2,$$\n",
    "\n",
    "where $\\| \\cdot \\|_2$ is the 2-norm  or the Euclidean norm acting on vectors.\n",
    "\n",
    "<br>\n",
    "\n",
    "[Why the square of $E$ here? As the 2 norm (Euclidean norm) includes a square root. We know that $E$ can't be negative (why?) and so minimising $E$ is completely equivalent to minimising $E^2$, i.e. we are minimising the 2-norm of the difference between the observed data and the model's prediction of the data.].\n"
   ]
  },
  {
   "cell_type": "markdown",
   "metadata": {},
   "source": [
    "We will show in a later lecture that the coefficients ($\\boldsymbol{a}$) of the polynomial that minimises $E$ are given by the solution to the linear system\n",
    "\n",
    "$$V^TV\\boldsymbol{a} = V^T\\boldsymbol{y},$$\n",
    "\n",
    "where $V$ is again the Vandermonde matrix. \n",
    "\n",
    "<br>\n",
    "\n",
    "This is a very important result/equation in this module we will return to.\n",
    "\n",
    "<br>\n",
    "\n",
    "[As we have seen, $V$ is no longer square in the case where $M+1 > N$. \n",
    "What is the shape of $V$, and indeed all the vectors and matrices appearing in this equation - is it \"dimensionally\" consistent?]\n",
    "\n",
    "Let's check that this is true by forming and solving the matrix system $V^TV\\boldsymbol{a} = V^T\\boldsymbol{y}$ for $\\boldsymbol{a}$ and comparing with the result we get using `numpy.polyfit`."
   ]
  },
  {
   "cell_type": "code",
   "execution_count": 14,
   "metadata": {
    "slideshow": {
     "slide_type": "subslide"
    }
   },
   "outputs": [
    {
     "name": "stdout",
     "output_type": "stream",
     "text": [
      "a = \n",
      " [ 0.75909819 -0.43193108  0.09889271 -0.00552147]\n",
      "\n",
      "poly_coeffs = \n",
      " [-0.00552147  0.09889271 -0.43193108  0.75909819]\n",
      "\n",
      "Our _a_ vector = output from np.polyfit (as long as we flip the order)?  True\n"
     ]
    },
    {
     "data": {
      "image/png": "[encoded data removed]",
      "text/plain": [
       "<Figure size 576x432 with 1 Axes>"
      ]
     },
     "metadata": {
      "needs_background": "light"
     },
     "output_type": "display_data"
    }
   ],
   "source": [
    "# Our data from Lecture 1:\n",
    "x = np.array([0.5, 2.0, 4.0, 5.0, 7.0, 9.0])\n",
    "y = np.array([0.5, 0.4, 0.3, 0.1, 0.9, 0.8])\n",
    "\n",
    "# Consider a polynomial of degree 3 - so not high enough to go through all the data\n",
    "N = 3\n",
    "\n",
    "# Use a numpy function to construct the Vandermonde matrix\n",
    "V = np.vander(x, N+1, increasing=True)\n",
    "\n",
    "# Form the matrix A by transposing V and multiplying by V:\n",
    "A = V.T @ V  # same as A = np.transpose(V) @ V\n",
    "\n",
    "# Use a function from SciPy's linalg sub-package to find the inverse:\n",
    "invA = sl.inv(A)\n",
    "\n",
    "# Form the RHS vector:\n",
    "rhs = V.T @ y\n",
    "\n",
    "# Multipy through by the inverse matrix to find a:\n",
    "a = invA @ rhs\n",
    "print('a = \\n', a)\n",
    "\n",
    "# Compare against the coefficient that numpy's polyfit gives us\n",
    "poly_coeffs = np.polyfit(x, y, N)\n",
    "print('\\npoly_coeffs = \\n', poly_coeffs)\n",
    "# they're the same, we just set up our algorithm to return the coefficient in the \n",
    "# opposite order to polyfit - we need to remember this when we evaluate the polynomial\n",
    "\n",
    "print('\\nOur _a_ vector = output from np.polyfit (as long as we flip the order)? ', \n",
    "      np.allclose(np.flip(a), poly_coeffs))\n",
    "# set up figure\n",
    "fig = plt.figure(figsize=(8, 6))\n",
    "ax1 = fig.add_subplot(111)\n",
    "ax1.margins(0.1)\n",
    "\n",
    "xx = np.linspace(0.4, 9.1, 100)\n",
    "yy = a[0] + a[1]*xx + a[2] * xx**2 + a[3] * xx**3 \n",
    "\n",
    "ax1.plot(xx, yy, 'b', label='Least squares fit (cubic)')\n",
    "\n",
    "# Overlay raw data\n",
    "ax1.plot(x, y, 'ko', label='Raw data')\n",
    "ax1.set_xlabel('$x$', fontsize=16)\n",
    "ax1.set_ylabel('$y$', fontsize=16)\n",
    "ax1.set_title('Least squares approximation of a cubic to multiple data points', fontsize=16)\n",
    "ax1.grid(True)\n",
    "ax1.legend(loc='best', fontsize=14);"
   ]
  },
  {
   "cell_type": "markdown",
   "metadata": {},
   "source": [
    "The key result was that solving the problem\n",
    "\n",
    "$$V^TV\\boldsymbol{a} = V^T\\boldsymbol{y}$$\n",
    "\n",
    "i.e. forming\n",
    "\n",
    "$$\\boldsymbol{a} = (V^TV)^{-1}V^T\\boldsymbol{y}$$\n",
    "\n",
    "gave us a solution for the parameters which had the property that it fit the data with the minimum least-squares error.\n",
    "\n",
    "It can be shown that if the matrix (here $V$, later $G$) is of full \"column rank\" (the columns are all linearly independent; for square matrices full column rank == full row rank, but not the case for non-square matrices) then $(V^TV)^{-1}$ exists.\n",
    "\n",
    "We will return to the least squares approximation later."
   ]
  },
  {
   "cell_type": "markdown",
   "metadata": {},
   "source": [
    "# Summary\n",
    "\n",
    "\n",
    "- We have introduced inversion and optimisation problems.\n",
    "\n",
    "\n",
    "- We have explained how they are largely equivalent, and how formulating as one can be used to solve the other.\n",
    "\n",
    "\n",
    "- We have reviewed some linear algebra theory.\n",
    "\n",
    "\n",
    "- We have reminded ourselves of some Python based linear algebra.\n",
    "\n",
    "\n",
    "- We have started our thinking on over- and under-determined systems (i.e. the non-square case where $M\\ne N$), ...\n",
    "\n",
    "\n",
    "- and in the over-determined case introduced the least squares solution."
   ]
  }
 ],
 "metadata": {
  "celltoolbar": "Slideshow",
  "kernelspec": {
   "display_name": "Python 3 (ipykernel)",
   "language": "python",
   "name": "python3"
  },
  "language_info": {
   "codemirror_mode": {
    "name": "ipython",
    "version": 3
   },
   "file_extension": ".py",
   "mimetype": "text/x-python",
   "name": "python",
   "nbconvert_exporter": "python",
   "pygments_lexer": "ipython3",
   "version": "3.11.5"
  },
  "latex_envs": {
   "LaTeX_envs_menu_present": true,
   "autoclose": true,
   "autocomplete": true,
   "bibliofile": "biblio.bib",
   "cite_by": "apalike",
   "current_citInitial": 1,
   "eqLabelWithNumbers": true,
   "eqNumInitial": 1,
   "hotkeys": {
    "equation": "Ctrl-E",
    "itemize": "Ctrl-I"
   },
   "labels_anchors": false,
   "latex_user_defs": false,
   "report_style_numbering": false,
   "user_envs_cfg": true
  },
  "toc": {
   "base_numbering": 1,
   "nav_menu": {},
   "number_sections": true,
   "sideBar": true,
   "skip_h1_title": false,
   "title_cell": "Table of Contents",
   "title_sidebar": "Contents",
   "toc_cell": true,
   "toc_position": {},
   "toc_section_display": true,
   "toc_window_display": false
  }
 },
 "nbformat": 4,
 "nbformat_minor": 1
}
