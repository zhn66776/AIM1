{
 "cells": [
  {
   "cell_type": "markdown",
   "metadata": {
    "slideshow": {
     "slide_type": "slide"
    }
   },
   "source": [
    "# EART 70013  <a class=\"tocSkip\">\n",
    "    \n",
    "# Applied Inversion Methods <a class=\"tocSkip\">    \n",
    "    \n",
    "## Lecture 1 - Homework Solutions <a class=\"tocSkip\">  "
   ]
  },
  {
   "cell_type": "markdown",
   "metadata": {
    "toc": true
   },
   "source": [
    "<h1>Table of Contents<span class=\"tocSkip\"></span></h1>\n",
    "<div class=\"toc\"><ul class=\"toc-item\"><li><span><a href=\"#Homework\" data-toc-modified-id=\"Homework-1\"><span class=\"toc-item-num\">1&nbsp;&nbsp;</span>Homework</a></span><ul class=\"toc-item\"><li><span><a href=\"#Homework---Checking-properties-of-transposes\" data-toc-modified-id=\"Homework---Checking-properties-of-transposes-1.1\"><span class=\"toc-item-num\">1.1&nbsp;&nbsp;</span>Homework - Checking properties of transposes</a></span><ul class=\"toc-item\"><li><span><a href=\"#Solution\" data-toc-modified-id=\"Solution-1.1.1\"><span class=\"toc-item-num\">1.1.1&nbsp;&nbsp;</span>Solution</a></span></li></ul></li><li><span><a href=\"#Homework---Prove-that-$(AB)^T-=-B^T-A^T$\" data-toc-modified-id=\"Homework---Prove-that-$(AB)^T-=-B^T-A^T$-1.2\"><span class=\"toc-item-num\">1.2&nbsp;&nbsp;</span>Homework - Prove that $(AB)^T = B^T A^T$</a></span><ul class=\"toc-item\"><li><span><a href=\"#Solution\" data-toc-modified-id=\"Solution-1.2.1\"><span class=\"toc-item-num\">1.2.1&nbsp;&nbsp;</span>Solution</a></span></li></ul></li><li><span><a href=\"#Homework---Symmetric-matrices\" data-toc-modified-id=\"Homework---Symmetric-matrices-1.3\"><span class=\"toc-item-num\">1.3&nbsp;&nbsp;</span>Homework - Symmetric matrices</a></span><ul class=\"toc-item\"><li><span><a href=\"#Solution\" data-toc-modified-id=\"Solution-1.3.1\"><span class=\"toc-item-num\">1.3.1&nbsp;&nbsp;</span>Solution</a></span></li></ul></li><li><span><a href=\"#Homework---Matrix-vector-multiplication-as-a-weighted-sum-of-columns\" data-toc-modified-id=\"Homework---Matrix-vector-multiplication-as-a-weighted-sum-of-columns-1.4\"><span class=\"toc-item-num\">1.4&nbsp;&nbsp;</span>Homework - Matrix-vector multiplication as a weighted sum of columns</a></span><ul class=\"toc-item\"><li><span><a href=\"#Solution\" data-toc-modified-id=\"Solution-1.4.1\"><span class=\"toc-item-num\">1.4.1&nbsp;&nbsp;</span>Solution</a></span></li></ul></li><li><span><a href=\"#Homework---Fitting-two-data-points\" data-toc-modified-id=\"Homework---Fitting-two-data-points-1.5\"><span class=\"toc-item-num\">1.5&nbsp;&nbsp;</span>Homework - Fitting two data points</a></span><ul class=\"toc-item\"><li><span><a href=\"#Solution\" data-toc-modified-id=\"Solution-1.5.1\"><span class=\"toc-item-num\">1.5.1&nbsp;&nbsp;</span>Solution</a></span></li></ul></li><li><span><a href=\"#Homework---Squared-error-calculation-(from-Numerical-Methods)\" data-toc-modified-id=\"Homework---Squared-error-calculation-(from-Numerical-Methods)-1.6\"><span class=\"toc-item-num\">1.6&nbsp;&nbsp;</span>Homework - Squared error calculation (from Numerical Methods)</a></span><ul class=\"toc-item\"><li><span><a href=\"#Solution\" data-toc-modified-id=\"Solution-1.6.1\"><span class=\"toc-item-num\">1.6.1&nbsp;&nbsp;</span>Solution</a></span></li></ul></li><li><span><a href=\"#Homework---Degree-of-approximation-(from-Numerical-Methods)\" data-toc-modified-id=\"Homework---Degree-of-approximation-(from-Numerical-Methods)-1.7\"><span class=\"toc-item-num\">1.7&nbsp;&nbsp;</span>Homework - Degree of approximation (from Numerical Methods)</a></span><ul class=\"toc-item\"><li><span><a href=\"#Solution\" data-toc-modified-id=\"Solution-1.7.1\"><span class=\"toc-item-num\">1.7.1&nbsp;&nbsp;</span>Solution</a></span></li></ul></li></ul></li></ul></div>"
   ]
  },
  {
   "cell_type": "code",
   "execution_count": 2,
   "metadata": {},
   "outputs": [],
   "source": [
    "%matplotlib inline\n",
    "import numpy as np\n",
    "import matplotlib.pyplot as plt\n",
    "import scipy.linalg as sl\n",
    "import scipy.optimize as sop\n",
    "from pprint import pprint"
   ]
  },
  {
   "cell_type": "markdown",
   "metadata": {},
   "source": [
    "# Homework"
   ]
  },
  {
   "cell_type": "markdown",
   "metadata": {},
   "source": [
    "## Homework - Checking properties of transposes\n",
    "\n",
    "Check the four properties of the transpose operator from the lecture for some example matrices.\n",
    "\n",
    "Hint: \n",
    "\n",
    "```Python\n",
    "A = np.random.random((m,n))\n",
    "```\n",
    "\n",
    "is a convenient way to generate an arbitrary m by n matrix."
   ]
  },
  {
   "cell_type": "markdown",
   "metadata": {},
   "source": [
    "### Solution "
   ]
  },
  {
   "cell_type": "markdown",
   "metadata": {},
   "source": [
    "- I made a deliberate mistake here - what was it? Can you fix this test?\n",
    "\n",
    "- Why did I make the above choices in the use of `allcose` vs `array_equal`?"
   ]
  },
  {
   "cell_type": "code",
   "execution_count": 2,
   "metadata": {},
   "outputs": [
    {
     "name": "stdout",
     "output_type": "stream",
     "text": [
      "(A+B)^T = A^T + B^T:  True\n",
      "(alpha * A)^T = alpha * A^T:  True\n",
      "(A^T)^T = A:  True\n"
     ]
    },
    {
     "ename": "ValueError",
     "evalue": "matmul: Input operand 1 has a mismatch in its core dimension 0, with gufunc signature (n?,k),(k,m?)->(n?,m?) (size 10 is different from 20)",
     "output_type": "error",
     "traceback": [
      "\u001b[1;31m---------------------------------------------------------------------------\u001b[0m",
      "\u001b[1;31mValueError\u001b[0m                                Traceback (most recent call last)",
      "\u001b[1;32m<ipython-input-2-59d4ce9acd71>\u001b[0m in \u001b[0;36m<module>\u001b[1;34m\u001b[0m\n\u001b[0;32m      7\u001b[0m \u001b[0mprint\u001b[0m\u001b[1;33m(\u001b[0m\u001b[1;34m'(alpha * A)^T = alpha * A^T: '\u001b[0m\u001b[1;33m,\u001b[0m\u001b[0mnp\u001b[0m\u001b[1;33m.\u001b[0m\u001b[0mallclose\u001b[0m\u001b[1;33m(\u001b[0m\u001b[1;33m(\u001b[0m\u001b[0malpha\u001b[0m \u001b[1;33m*\u001b[0m \u001b[0mA\u001b[0m\u001b[1;33m)\u001b[0m\u001b[1;33m.\u001b[0m\u001b[0mT\u001b[0m\u001b[1;33m,\u001b[0m \u001b[0malpha\u001b[0m \u001b[1;33m*\u001b[0m \u001b[0mA\u001b[0m\u001b[1;33m.\u001b[0m\u001b[0mT\u001b[0m\u001b[1;33m)\u001b[0m\u001b[1;33m)\u001b[0m\u001b[1;33m\u001b[0m\u001b[1;33m\u001b[0m\u001b[0m\n\u001b[0;32m      8\u001b[0m \u001b[0mprint\u001b[0m\u001b[1;33m(\u001b[0m\u001b[1;34m'(A^T)^T = A: '\u001b[0m\u001b[1;33m,\u001b[0m\u001b[0mnp\u001b[0m\u001b[1;33m.\u001b[0m\u001b[0marray_equal\u001b[0m\u001b[1;33m(\u001b[0m\u001b[1;33m(\u001b[0m\u001b[0mA\u001b[0m\u001b[1;33m.\u001b[0m\u001b[0mT\u001b[0m\u001b[1;33m)\u001b[0m\u001b[1;33m.\u001b[0m\u001b[0mT\u001b[0m\u001b[1;33m,\u001b[0m \u001b[0mA\u001b[0m\u001b[1;33m)\u001b[0m\u001b[1;33m)\u001b[0m\u001b[1;33m\u001b[0m\u001b[1;33m\u001b[0m\u001b[0m\n\u001b[1;32m----> 9\u001b[1;33m \u001b[0mprint\u001b[0m\u001b[1;33m(\u001b[0m\u001b[1;34m'(AB)^T = B^T A^T: '\u001b[0m\u001b[1;33m,\u001b[0m\u001b[0mnp\u001b[0m\u001b[1;33m.\u001b[0m\u001b[0mallclose\u001b[0m\u001b[1;33m(\u001b[0m\u001b[1;33m(\u001b[0m\u001b[0mA\u001b[0m\u001b[1;33m@\u001b[0m\u001b[0mB\u001b[0m\u001b[1;33m)\u001b[0m\u001b[1;33m.\u001b[0m\u001b[0mT\u001b[0m\u001b[1;33m,\u001b[0m \u001b[0mB\u001b[0m\u001b[1;33m.\u001b[0m\u001b[0mT\u001b[0m \u001b[1;33m@\u001b[0m \u001b[0mA\u001b[0m\u001b[1;33m.\u001b[0m\u001b[0mT\u001b[0m\u001b[1;33m)\u001b[0m\u001b[1;33m)\u001b[0m\u001b[1;33m\u001b[0m\u001b[1;33m\u001b[0m\u001b[0m\n\u001b[0m",
      "\u001b[1;31mValueError\u001b[0m: matmul: Input operand 1 has a mismatch in its core dimension 0, with gufunc signature (n?,k),(k,m?)->(n?,m?) (size 10 is different from 20)"
     ]
    }
   ],
   "source": [
    "m = 10\n",
    "n = 20\n",
    "A = np.random.random((m,n))\n",
    "B = np.random.random((m,n))\n",
    "print('(A+B)^T = A^T + B^T: ',np.allclose((A+B).T, A.T + B.T))\n",
    "alpha = np.pi\n",
    "print('(alpha * A)^T = alpha * A^T: ',np.allclose((alpha * A).T, alpha * A.T))\n",
    "print('(A^T)^T = A: ',np.array_equal((A.T).T, A))\n",
    "print('(AB)^T = B^T A^T: ',np.allclose((A@B).T, B.T @ A.T))\n"
   ]
  },
  {
   "cell_type": "code",
   "execution_count": 3,
   "metadata": {},
   "outputs": [
    {
     "name": "stdout",
     "output_type": "stream",
     "text": [
      "(A+B)^T = A^T + B^T:  True\n",
      "(alpha * A)^T = alpha * A^T:  True\n",
      "(A^T)^T = A:  True\n",
      "(AB)^T = B^T A^T:  True\n"
     ]
    }
   ],
   "source": [
    "m = 20\n",
    "n = 20\n",
    "A = np.random.random((m,n))\n",
    "B = np.random.random((m,n))\n",
    "print('(A+B)^T = A^T + B^T: ',np.allclose((A+B).T, A.T + B.T))\n",
    "alpha = np.pi\n",
    "print('(alpha * A)^T = alpha * A^T: ',np.allclose((alpha * A).T, alpha * A.T))\n",
    "print('(A^T)^T = A: ',np.array_equal((A.T).T, A))\n",
    "print('(AB)^T = B^T A^T: ',np.allclose((A@B).T, B.T @ A.T))\n"
   ]
  },
  {
   "cell_type": "markdown",
   "metadata": {},
   "source": [
    "## Homework - Prove that $(AB)^T = B^T A^T$\n",
    "\n",
    "As per the section title!\n",
    "\n",
    "Hint: Writing in index notation $A = [a_{ij}]_{m\\times n}$ and $B = [b_{ij}]_{n\\times p}$\n",
    "the product can be defined as: the $(i,j)$-th entry of the product $AB$ is given by\n",
    "$$\\sum_{k=1}^n a_{ik} b_{kj}$$\n",
    "with $A$ being an $m\\times p$ matrix."
   ]
  },
  {
   "cell_type": "markdown",
   "metadata": {},
   "source": [
    "### Solution\n",
    "\n",
    "Something like this:\n",
    "\n",
    "Suppose $A = [a_{ij}]_{m\\times n}$ and $B = [b_{ij}]_{n\\times p}$.\n",
    "\n",
    "Define $C=(AB)^T$ and $D= B^T A^T$.  We need to show that $c_{ij}=d_{ij}$ $\\forall i, j$.\n",
    "\n",
    "The $(i,j)$-th entry of the product $AB$ is given by \n",
    "\n",
    "$$\\sum_{k=1}^n a_{ik} b_{kj}$$\n",
    "\n",
    "$c_{ij}$, the $(i,j)$-th entry of the transpose of this product ($C:=(AB)^T)$, \n",
    "is given by the above but with the $i$ and $j$ indices swapped:\n",
    "\n",
    "$$c_{ij} = \\sum_{k=1}^n a_{jk} b_{ki}$$\n",
    "\n",
    "$d_{ij}$, the $(i,j)$-th entry of $B^T A^T$, is given by the product of $B^T$ with $A^T$ - we take rows of $B^T$ and multiply them against columns of $A^T$ (that's the same as columns of $B$ against rows of $A$):\n",
    "\n",
    "$$d_{ij} =  \\sum_{k=1}^n b_{ki} a_{jk}$$\n",
    "\n",
    "Thus $c_{ij} = d_{ij}$ $\\forall i,j$, and so $C=D$, i.e. $(AB)^T = B^T A^T$."
   ]
  },
  {
   "cell_type": "markdown",
   "metadata": {},
   "source": [
    "## Homework - Symmetric matrices\n",
    "\n",
    "1. Given an $n\\times n$ symmetric matrix $A$ and an arbitrary $m\\times n$ matrix B, show that the matrix $BAB^T$ is symmetric.\n",
    "\n",
    "Verify through an example using NumPy.\n",
    "\n",
    "\n",
    "\n",
    "2. If $A$ and $B$ are both symmetric square matrices, are $AB+BA$ and $AB-BA$ symmetric or skew-symmetric?"
   ]
  },
  {
   "cell_type": "markdown",
   "metadata": {},
   "source": [
    "### Solution\n",
    "\n",
    "Using the properties of transposes\n",
    "\n",
    "$$(BAB^T)^T = ((BA)B^T)^T = (B^T)^T (BA)^T = B A^T B^T = B A B^T $$\n",
    "\n",
    "and so $BAB^T$ is symmetric.\n",
    "\n",
    "\n",
    "Similarly $AB+BA$ is symmetric but $AB-BA$ is skew symmetric."
   ]
  },
  {
   "cell_type": "code",
   "execution_count": 4,
   "metadata": {},
   "outputs": [
    {
     "name": "stdout",
     "output_type": "stream",
     "text": [
      "[[ 21  51  81]\n",
      " [ 51 121 191]\n",
      " [ 81 191 301]]\n",
      "Is symmetric:  True\n"
     ]
    }
   ],
   "source": [
    "# symmetric 2x2 matrix\n",
    "A = np.array( [[1, 4], [4,1] ] )\n",
    "# arbitrary 3x2 matrix\n",
    "B = np.array( [[1, 2], [3,4], [5,6] ] )\n",
    "\n",
    "print((B@A)@B.T)\n",
    "\n",
    "print('Is symmetric: ',np.array_equal((B@A)@B.T,  ((B@A)@B.T).T))"
   ]
  },
  {
   "cell_type": "markdown",
   "metadata": {},
   "source": [
    "## Homework - Matrix-vector multiplication as a weighted sum of columns\n",
    "\n",
    "In the lecture we pointed out \"another useful interpretation\" of matrix vector multiplication.\n",
    "\n",
    "Code up this approach and perform the same testing that we did in the lecture for `def mat_vec_product(A, x)`."
   ]
  },
  {
   "cell_type": "markdown",
   "metadata": {},
   "source": [
    "### Solution"
   ]
  },
  {
   "cell_type": "code",
   "execution_count": 5,
   "metadata": {},
   "outputs": [
    {
     "name": "stdout",
     "output_type": "stream",
     "text": [
      "[ 5. -3.]\n",
      "mat_vec_product2(A, x) == A@x:   True\n",
      "[ 5. -3.  2.]\n",
      "mat_vec_product2(A, x) == A@x:   True\n",
      "mat_vec_product2(A, x) == A@x:   True\n"
     ]
    }
   ],
   "source": [
    "def mat_vec_product2(A, x):\n",
    "    \"\"\"Function to compute the matrix vector product Ax - a different approach.\n",
    "\n",
    "    Parameters\n",
    "    ----------\n",
    "    A : ndarray\n",
    "        Some matrix A with shape (m,n)\n",
    "    x : array_like\n",
    "        Some vector x with shape (n,)\n",
    "\n",
    "    Returns\n",
    "    -------\n",
    "    b : ndarray\n",
    "        RHS vector b with shape (m,)\n",
    "    \"\"\"\n",
    "    m, n = np.shape(A)\n",
    "    assert x.ndim == 1 # restrict to the case where x is 1D\n",
    "    assert n == len(x) # as 1D we can check the length of x is consistent with A\n",
    "    b = np.zeros(m) # and then initialise the appropriate length array for b\n",
    "    for j in range(n):\n",
    "            b[:] += x[j] * A[:, j]\n",
    "    return b\n",
    "\n",
    "\n",
    "# Let's test against the Numpy product for a simple 2x2\n",
    "A = np.array([[2, 3], [1, -4]])\n",
    "x = np.array([1, 1])\n",
    "\n",
    "print(mat_vec_product2(A,x))\n",
    "print('mat_vec_product2(A, x) == A@x:  ', np.allclose(mat_vec_product2(A, x), A@x))\n",
    "\n",
    "# Check a non-square matrix\n",
    "A = np.array([[2, 3], [1, -4], [1,1]])\n",
    "# based on the above weighted sum of columns, what should Ax be for the following x?\n",
    "x = np.array([1, 1])\n",
    "\n",
    "print(mat_vec_product2(A,x))\n",
    "print('mat_vec_product2(A, x) == A@x:  ', np.allclose(mat_vec_product2(A, x), A@x))\n",
    "\n",
    "\n",
    "# and we can use random matrices to test a larger case\n",
    "A = np.random.random((100,100))\n",
    "x = np.random.random(100)\n",
    "print('mat_vec_product2(A, x) == A@x:  ', np.allclose(mat_vec_product2(A, x), A@x))"
   ]
  },
  {
   "cell_type": "markdown",
   "metadata": {},
   "source": [
    "## Homework - Fitting two data points\n",
    "\n",
    "We stated in class that:\n",
    "\n",
    "\n",
    "The polynomial that fits the two data points $\\{(x_0,y_0),(x_1,y_1)\\}$ is clearly the linear function given by\n",
    "\n",
    "$$ y = f(x) \\equiv a_0 + a_1\\,x \\;\\;\\;\\;\\; \\text{i.e. the degree one polynomial:} \\;\\;\\;\\;\\; y = P_1(x) \\equiv a_0 + a_1\\,x$$\n",
    "\n",
    "where through substitution we arrive at  two simultaneous equations (or a $2\\times 2$ matrix system) which can fairly easily be solved by substituting one equation into the other to conclude that\n",
    "\n",
    "$$ a_0 = y_0 - \\frac{y_1-y_0}{x_1-x_0}x_0, \\;\\;\\;\\;\\;\\;\\;\\; a_1 = \\frac{y_1-y_0}{x_1-x_0}. $$\n",
    "\n",
    "Form the set of two simultaneous equations and solve by hand to derive this solution for the coefficients.\n",
    "\n",
    "<br> \n",
    "\n",
    "Confirm that this result is exactly the same as the Lagrange polynomial (we saw in the lecture) that you can just write down without needing to invert any system for coefficients."
   ]
  },
  {
   "cell_type": "markdown",
   "metadata": {},
   "source": [
    "### Solution\n",
    "\n",
    "We have two pieces of information - let's write these out:\n",
    "\n",
    "\\begin{align*}\n",
    "(1) & \\;\\;\\;\\; y_0 = a_0 + a_1\\,x_0, \\\\[5pt]\n",
    "(2) & \\;\\;\\;\\; y_1 = a_0 + a_1\\,x_1. \n",
    "\\end{align*}\n",
    "\n",
    "We are assuming we know the $x$'s and the $y$'s, and we want to find the $a$'s.\n",
    "\n",
    "There are multiple ways we could solve this, one way is to rearrange the second equation to give an expression for $a_1$ in terms of $a_0$:\n",
    "\n",
    "$$ a_0 = y_1 - a_1x_1,$$\n",
    "\n",
    "and substitute this into the first equation:\n",
    "\n",
    "$$ y_0 = a_0 + a_1\\,x_0 = y_1 - a_1x_1 + a_1\\,x_0 = y_1 - (x_1-x_0)a_1,$$\n",
    "\n",
    "which we can solve for $a_1$:\n",
    "\n",
    "$$ a_1 = \\frac{y_1 - y_0}{x_1 - x_0}.$$\n",
    "\n",
    "We can now substitute this into either one of the two original equations to find $a_0$ - consider (1) for example:\n",
    "\n",
    "$$y_0 = a_0 + a_1\\,x_0 = a_0 + \\frac{y_1 - y_0}{x_1 - x_0} x_0.$$\n",
    "\n",
    "Rearranging we get the solution we want:\n",
    "\n",
    "$$a_0 = y_0 - \\frac{y_1 - y_0}{x_1 - x_0} x_0.$$\n",
    "\n",
    "Note that this is equivalent to forming and solving the linear system\n",
    "\n",
    "$$\n",
    "\\begin{pmatrix}\n",
    "1 & x_0  \\\\\n",
    "1 & x_1 \n",
    "\\end{pmatrix}\n",
    "\\begin{pmatrix}\n",
    "a_0\\\\\n",
    "a_1\n",
    "\\end{pmatrix}\n",
    "=\n",
    "\\begin{pmatrix}\n",
    "y_0\\\\\n",
    "y_1\n",
    "\\end{pmatrix}.\n",
    "$$"
   ]
  },
  {
   "cell_type": "markdown",
   "metadata": {},
   "source": [
    "We therefore have\n",
    "\n",
    "$$ y = f(x) = P_1(x) \\equiv a_0 + a_1\\,x$$\n",
    "\n",
    "where \n",
    "\n",
    "$$ a_0 = y_0 - \\frac{y_1-y_0}{x_1-x_0}x_0, \\;\\;\\;\\;\\;\\;\\;\\; a_1 = \\frac{y_1-y_0}{x_1-x_0}. $$\n",
    "\n",
    "Collecting terms we have\n",
    "\n",
    "\\begin{align}\n",
    "y = a_0 + a_1\\,x \n",
    "& = y_0 - \\frac{y_1-y_0}{x_1-x_0}x_0 + \\frac{y_1-y_0}{x_1-x_0} x\\\\\n",
    "& = y_0 - \\frac{y_1\\, x_0}{x_1-x_0} + \\frac{y_0\\, x_0}{x_1-x_0} + \\frac{y_1\\, x}{x_1-x_0}  - \\frac{y_0\\, x}{x_1-x_0} \\\\\n",
    "& = \\frac{1}{x_1-x_0}\n",
    "\\left[ \n",
    "y_0(x_1-x_0) - y_1\\, x_0 + y_0\\, x_0 + y_1\\, x- y_0\\, x\n",
    "\\right] \\\\\n",
    "& = \\frac{1}{x_1-x_0}\n",
    "\\left[ \n",
    "y_0 (x_1 - x)  + y_1 (x -  x_0)\n",
    "\\right] \\\\\n",
    "& = \\frac{x - x_1}{x_0-x_1}\\,y_0 + \\frac{x - x_0}{x_1-x_0}\\,y_1\n",
    "\\end{align}\n",
    "\n",
    "\n",
    "and this does indeed agree with the expression we can just write down based on our knowldge of the Lagrange polynomial!"
   ]
  },
  {
   "cell_type": "markdown",
   "metadata": {},
   "source": [
    "## Homework - Squared error calculation (from Numerical Methods)\n",
    "\n",
    "As described in the docs ([numpy.polyfit](http://docs.scipy.org/doc/numpy/reference/generated/numpy.polyfit.html)), least squares fitting minimises the square of the difference between the data provided and the polynomial,\n",
    "\n",
    "$$E = \\sum_{i=0}^{N} (p(x_i) - y_i)^2,$$\n",
    "\n",
    "where $p(x_i)$ is the value of the polynomial function that has been fit to the data evaluated at point $x_i$, and $y_i$ is the $i^{th}$ data value.\n",
    "\n",
    "Write a Python function that evaluates the squared error, $E$, and use this function to evaluate the error for each of the polynomials calculated below. \n"
   ]
  },
  {
   "cell_type": "code",
   "execution_count": 3,
   "metadata": {},
   "outputs": [],
   "source": [
    "# create the polynomials using code from the lecture\n",
    "\n",
    "# consider the above example data again\n",
    "xi=np.array([0.5,2.0,4.0,5.0,7.0,9.0])\n",
    "yi=np.array([0.5,0.4,0.3,0.1,0.9,0.8])\n",
    "\n",
    "# Calculate coefficients of polynomial degree 0 - ie a constant value.\n",
    "poly_coeffs=np.polyfit(xi, yi, 0)\n",
    "\n",
    "# Construct a polynomial function which we can use to evaluate for arbitrary x values.\n",
    "p0 = np.poly1d(poly_coeffs)\n",
    "\n",
    "# Fit a polynomial degree 1 - ie a straight line.\n",
    "poly_coeffs=np.polyfit(xi, yi, 1)\n",
    "p1 = np.poly1d(poly_coeffs)\n",
    "\n",
    "# Quadratic\n",
    "poly_coeffs=np.polyfit(xi, yi, 2)\n",
    "p2 = np.poly1d(poly_coeffs)\n",
    "\n",
    "# Cubic\n",
    "poly_coeffs=np.polyfit(xi, yi, 3)\n",
    "p3 = np.poly1d(poly_coeffs)"
   ]
  },
  {
   "cell_type": "code",
   "execution_count": 4,
   "metadata": {},
   "outputs": [
    {
     "data": {
      "image/png": "[encoded data removed]",
      "text/plain": [
       "<Figure size 800x600 with 1 Axes>"
      ]
     },
     "metadata": {},
     "output_type": "display_data"
    }
   ],
   "source": [
    "# and plot again\n",
    "def plot_raw_data(xi, yi, ax):\n",
    "    \"\"\"plot x vs y on axes ax, \n",
    "    add axes labels and turn on grid\n",
    "    \"\"\"\n",
    "    ax.plot(xi, yi, 'ko', label='raw data')\n",
    "    ax.set_xlabel('$x$', fontsize=16)\n",
    "    ax.set_ylabel('$y$', fontsize=16)\n",
    "    ax.grid(True)\n",
    "    \n",
    "    \n",
    "# set up figure\n",
    "fig = plt.figure(figsize=(8, 6))\n",
    "ax1 = fig.add_subplot(111)\n",
    "ax1.margins(0.1)zz\n",
    "\n",
    "x = np.linspace(0.4, 9.1, 100)\n",
    "\n",
    "ax1.plot(x, p0(x), 'k', label='Constant')\n",
    "ax1.plot(x, p1(x), 'b', label='Linear')\n",
    "ax1.plot(x, p2(x), 'r', label='Quadratic')\n",
    "ax1.plot(x, p3(x), 'g', label='Cubic')\n",
    "\n",
    "# Overlay raw data\n",
    "plot_raw_data(xi, yi, ax1)\n",
    "\n",
    "ax1.legend(loc='best', fontsize = 12)\n",
    "ax1.set_title('Polynomial approximations of differing degree', fontsize=16);"
   ]
  },
  {
   "cell_type": "code",
   "execution_count": 6,
   "metadata": {},
   "outputs": [
    {
     "name": "stdout",
     "output_type": "stream",
     "text": [
      "Constant (Degree 0) Coefficients: [0.5]\n",
      "Linear (Degree 1) Coefficients: [0.0508044  0.26714649]\n",
      "Quadratic (Degree 2) Coefficients: [ 0.02013603 -0.13983999  0.55279339]\n",
      "Cubic (Degree 3) Coefficients: [-0.00552147  0.09889271 -0.43193108  0.75909819]\n"
     ]
    }
   ],
   "source": [
    "print(\"Constant (Degree 0) Coefficients:\", p0.coeffs)\n",
    "print(\"Linear (Degree 1) Coefficients:\", p1.coeffs)\n",
    "print(\"Quadratic (Degree 2) Coefficients:\", p2.coeffs)\n",
    "print(\"Cubic (Degree 3) Coefficients:\", p3.coeffs)"
   ]
  },
  {
   "cell_type": "markdown",
   "metadata": {},
   "source": [
    "### Solution"
   ]
  },
  {
   "cell_type": "code",
   "execution_count": 5,
   "metadata": {},
   "outputs": [
    {
     "name": "stdout",
     "output_type": "stream",
     "text": [
      "0.4600000000000001\n",
      "0.33298899237933965\n",
      "0.19947824214254944\n",
      "0.1573034366232377\n"
     ]
    }
   ],
   "source": [
    "# we use the square of the difference to ensure each contribution\n",
    "# to the total error is positive, otherwise errors of different signs\n",
    "# could/would cancel out giving a false estimate of how good our approximation is\n",
    "\n",
    "\n",
    "def sqr_error(p, xi, yi):\n",
    "    \"\"\"\"function to evaluate the sum of square of errors\"\"\"\n",
    "    # first compute the square of the differences\n",
    "    diff2 = (p(xi)-yi)**2\n",
    "    # and return their sum\n",
    "    return diff2.sum()\n",
    "\n",
    "\n",
    "print(sqr_error(p0, xi, yi))\n",
    "print(sqr_error(p1, xi, yi))\n",
    "print(sqr_error(p2, xi, yi))\n",
    "print(sqr_error(p3, xi, yi))"
   ]
  },
  {
   "cell_type": "code",
   "execution_count": 9,
   "metadata": {},
   "outputs": [
    {
     "name": "stdout",
     "output_type": "stream",
     "text": [
      "0.46\n",
      "0.3329889923793396\n",
      "0.1994782421425496\n",
      "0.15730343662323765\n"
     ]
    }
   ],
   "source": [
    "# Alternatively we could just use the l2 norm\n",
    "# [you can get different norms if you use pass arguments to the function, \n",
    "# but the 2-norm is the default]\n",
    "# To match the definition of the error we implemented above we need to take the square\n",
    "print(sl.norm(p0(xi) - yi)**2)\n",
    "print(sl.norm(p1(xi) - yi)**2)\n",
    "print(sl.norm(p2(xi) - yi)**2)\n",
    "print(sl.norm(p3(xi) - yi)**2)"
   ]
  },
  {
   "cell_type": "markdown",
   "metadata": {},
   "source": [
    "## Homework - Degree of approximation (from Numerical Methods)\n",
    "\n",
    "Extend the previous question above by fitting and plotting polynomials of increasing degree past cubic. At what *degree* does the resulting polynomial approximation fit the data exactly?\n"
   ]
  },
  {
   "cell_type": "markdown",
   "metadata": {},
   "source": [
    "### Solution"
   ]
  },
  {
   "cell_type": "code",
   "execution_count": 10,
   "metadata": {},
   "outputs": [
    {
     "name": "stdout",
     "output_type": "stream",
     "text": [
      "Number of points to fit:  6\n",
      "poly_coeffs = \n",
      "[[ 0.5         0.          0.          0.          0.          0.        ]\n",
      " [ 0.0508044   0.26714649  0.          0.          0.          0.        ]\n",
      " [ 0.02013603 -0.13983999  0.55279339  0.          0.          0.        ]\n",
      " [-0.00552147  0.09889271 -0.43193108  0.75909819  0.          0.        ]\n",
      " [-0.00420655  0.07403681 -0.38492428  0.59251888  0.27906056  0.        ]\n",
      " [-0.00301599  0.06536037 -0.49614427  1.59623195 -2.08266478  1.20030166]]\n",
      "square of the difference between the data and the polynomial of degree 0 = 4.60000000e-01\n",
      "square of the difference between the data and the polynomial of degree 1 = 3.32988992e-01\n",
      "square of the difference between the data and the polynomial of degree 2 = 1.99478242e-01\n",
      "square of the difference between the data and the polynomial of degree 3 = 1.57303437e-01\n",
      "square of the difference between the data and the polynomial of degree 4 = 4.69232378e-02\n",
      "square of the difference between the data and the polynomial of degree 5 = 7.23216068e-26\n"
     ]
    }
   ],
   "source": [
    "print(\"Number of points to fit: \", np.size(xi))\n",
    "# in this example we have 6 pieces of information, to fit a polynomial\n",
    "# that exactly goes through these points we need 6 unknowns, or free \n",
    "# parameters, to choose in the polynomial.  [Too few and we won't be able\n",
    "# to fit the data exaclty, and too many would just be a waste.  Cf. over-\n",
    "# and under-determined systems.]\n",
    "# A 5th order polynomial has 6 free parameters (all the powers up to 5,\n",
    "# including 0).\n",
    "# So calling polyfit to fit a polynomial of degree 5 (size(x)-1) should\n",
    "# fit the data exactly (repeat below with size(x)-2 etc, and size(x) and \n",
    "# above to convince yourself of this).\n",
    "# Let's check the errors up to this point:\n",
    "\n",
    "xi = np.array([0.5, 2.0, 4.0, 5.0, 7.0, 9.0])\n",
    "yi = np.array([0.5, 0.4, 0.3, 0.1, 0.9, 0.8])\n",
    "\n",
    "# Let's set up some space to store all the polynomial coefficients\n",
    "# there are some redundancies here, and we have assumed we will only \n",
    "# consider polynomials up to degree N\n",
    "N = 6\n",
    "poly_coeffs = np.zeros((N, N))\n",
    "\n",
    "for i in range(N):\n",
    "    poly_coeffs[i, :(i+1)] = np.polyfit(xi, yi, i)\n",
    "\n",
    "print('poly_coeffs = \\n{}'.format(poly_coeffs))\n",
    "\n",
    "# and now compute the errors\n",
    "for i in range(N):\n",
    "    p = np.poly1d(poly_coeffs[i, :(i+1)])\n",
    "    print('square of the difference between the data and the '\n",
    "          'polynomial of degree {0:1d} = {1:.8e}'.format(i, sqr_error(p, xi, yi)))\n",
    "    \n"
   ]
  }
 ],
 "metadata": {
  "celltoolbar": "Slideshow",
  "kernelspec": {
   "display_name": "Python 3 (ipykernel)",
   "language": "python",
   "name": "python3"
  },
  "language_info": {
   "codemirror_mode": {
    "name": "ipython",
    "version": 3
   },
   "file_extension": ".py",
   "mimetype": "text/x-python",
   "name": "python",
   "nbconvert_exporter": "python",
   "pygments_lexer": "ipython3",
   "version": "3.9.6"
  },
  "latex_envs": {
   "LaTeX_envs_menu_present": true,
   "autoclose": true,
   "autocomplete": true,
   "bibliofile": "biblio.bib",
   "cite_by": "apalike",
   "current_citInitial": 1,
   "eqLabelWithNumbers": true,
   "eqNumInitial": 1,
   "hotkeys": {
    "equation": "Ctrl-E",
    "itemize": "Ctrl-I"
   },
   "labels_anchors": false,
   "latex_user_defs": false,
   "report_style_numbering": false,
   "user_envs_cfg": true
  },
  "toc": {
   "base_numbering": 1,
   "nav_menu": {},
   "number_sections": true,
   "sideBar": true,
   "skip_h1_title": false,
   "title_cell": "Table of Contents",
   "title_sidebar": "Contents",
   "toc_cell": true,
   "toc_position": {},
   "toc_section_display": true,
   "toc_window_display": false
  }
 },
 "nbformat": 4,
 "nbformat_minor": 1
}
